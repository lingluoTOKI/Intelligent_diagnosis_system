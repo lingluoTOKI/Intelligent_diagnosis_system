{
 "cells": [
  {
   "cell_type": "code",
   "execution_count": null,
   "id": "df46cb20-506a-4e18-913c-d6520def5cf7",
   "metadata": {},
   "outputs": [],
   "source": [
    "import os\n",
    "os.environ['KMP_DUPLICATE_LIB_OK'] = 'True'"
   ]
  },
  {
   "cell_type": "code",
   "execution_count": null,
   "id": "1da96be9-1843-4041-a44a-5bf48b8814c8",
   "metadata": {},
   "outputs": [],
   "source": [
    "import torch\n",
    "\n",
    "# 检查torch是否有CUDA支持，即是否能用GPU\n",
    "print(torch.cuda.is_available())\n",
    "\n",
    "# 如果CUDA可用，它还会打印出当前默认的CUDA设备（通常是第一个GPU）\n",
    "if torch.cuda.is_available():\n",
    "    print(torch.cuda.get_device_name(0))\n",
    "print(torch.version.cuda)\n",
    "\n",
    "device = torch.device(\"cuda:0\" if torch.cuda.is_available() else \"cpu\")\n",
    "print(device)\n"
   ]
  },
  {
   "cell_type": "code",
   "execution_count": null,
   "id": "462069d5-5bc4-41bf-891a-4976ab269f11",
   "metadata": {},
   "outputs": [],
   "source": [
    "import requests\n",
    "\n",
    "response = requests.get('https://api.github.com', verify=False)"
   ]
  },
  {
   "cell_type": "code",
   "execution_count": null,
   "id": "de993f08-b049-44d0-8a60-09c77306116d",
   "metadata": {},
   "outputs": [],
   "source": [
    "import requests\n",
    "import certifi\n",
    "\n",
    "url = 'https://example.com'\n",
    "response = requests.get(url, verify=certifi.where())"
   ]
  },
  {
   "cell_type": "code",
   "execution_count": null,
   "id": "667504ac-30e4-45ea-9c20-b6511c6aef72",
   "metadata": {},
   "outputs": [],
   "source": [
    "from ultralytics import YOLO\n",
    "\n",
    "# 加载官方模型\n",
    "#model = YOLO(\"yolo11n-cls.pt\")  # 这里加载的是官方预训练的模型\n",
    "# 或者加载自定义模型\n",
    "model = YOLO(\"runs/classify/train13/weights/best.pt\")  # 加载你自己训练好的模型\n",
    "\n",
    "# 验证模型\n",
    "metrics = model.val()  # 调用 val 方法进行验证，无需额外参数，模型会使用之前训练时的数据集和设置\n",
    "\n",
    "# 访问验证指标\n",
    "top1_accuracy = metrics.top1  # 获取 top1 准确率\n",
    "top5_accuracy = metrics.top5  # 获取 top5 准确率\n",
    "\n",
    "print(f\"Top1 Accuracy: {top1_accuracy}\")\n",
    "print(f\"Top5 Accuracy: {top5_accuracy}\")"
   ]
  },
  {
   "cell_type": "code",
   "execution_count": null,
   "id": "bf565e54-6493-4507-bb55-3a4ff4a94b02",
   "metadata": {},
   "outputs": [],
   "source": [
    "from ultralytics import YOLO\n",
    "\n",
    "model = YOLO(\"runs/classify/train2/weights/best.pt\")\n",
    "model.val(data=\"datasets/eyes_disease.yaml\", verbose=True)  # 仅验证，不训练"
   ]
  },
  {
   "cell_type": "code",
   "execution_count": null,
   "id": "89df4476-7067-4937-9175-309fd3f547d8",
   "metadata": {},
   "outputs": [],
   "source": [
    "from ultralytics import settings\n",
    "\n",
    "# View all settings\n",
    "print(settings)\n",
    "\n",
    "# Return a specific setting\n",
    "value = settings['runs_dir']\n"
   ]
  },
  {
   "cell_type": "code",
   "execution_count": null,
   "id": "d0b551f9-7875-4ccb-8f25-aa2e776621c2",
   "metadata": {},
   "outputs": [],
   "source": [
    "from ultralytics import settings\n",
    "\n",
    "# Update a setting\n",
    "settings.update({'datasets_dir': \"C:/Users/47449/Desktop/yolo/yolov11/ultralytics-main/eyes_split\"})\n",
    "\n",
    "# Reset settings to default values\n",
    "settings.reset()\n"
   ]
  },
  {
   "cell_type": "code",
   "execution_count": 22,
   "id": "432ed60a-e1d7-4f94-a0a6-f26a17585f05",
   "metadata": {
    "scrolled": true
   },
   "outputs": [
    {
     "name": "stdout",
     "output_type": "stream",
     "text": [
      "WARNING  'label_smoothing' is deprecated and will be removed in in the future.\n",
      "Ultralytics 8.3.93  Python-3.9.21 torch-2.0.1+cu118 CUDA:0 (NVIDIA GeForce RTX 4050 Laptop GPU, 6140MiB)\n",
      "\u001b[34m\u001b[1mengine\\trainer: \u001b[0mtask=classify, mode=train, model=yolov8n-cls.pt, data=eyes_split, epochs=200, time=None, patience=20, batch=16, imgsz=512, save=True, save_period=-1, cache=False, device=0, workers=8, project=None, name=train53, exist_ok=False, pretrained=True, optimizer=auto, verbose=True, seed=0, deterministic=True, single_cls=False, rect=False, cos_lr=True, close_mosaic=10, resume=False, amp=True, fraction=1.0, profile=False, freeze=None, multi_scale=False, overlap_mask=True, mask_ratio=4, dropout=0.2, val=True, split=val, save_json=False, save_hybrid=False, conf=None, iou=0.7, max_det=300, half=False, dnn=False, plots=True, source=None, vid_stride=1, stream_buffer=False, visualize=False, augment=False, agnostic_nms=False, classes=None, retina_masks=False, embed=None, show=False, save_frames=False, save_txt=False, save_conf=False, save_crop=False, show_labels=True, show_conf=True, show_boxes=True, line_width=None, format=torchscript, keras=False, optimize=False, int8=False, dynamic=False, simplify=True, opset=None, workspace=None, nms=False, lr0=0.0001, lrf=0.001, momentum=0.937, weight_decay=0.001, warmup_epochs=3.0, warmup_momentum=0.8, warmup_bias_lr=0.1, box=7.5, cls=0.5, dfl=1.5, pose=12.0, kobj=1.0, nbs=64, hsv_h=0.02, hsv_s=0.8, hsv_v=0.5, degrees=0.0, translate=0.2, scale=0.3, shear=0.0, perspective=0.0, flipud=0.5, fliplr=0.5, bgr=0.0, mosaic=0.5, mixup=0.2, copy_paste=0.2, copy_paste_mode=flip, auto_augment=randaugment, erasing=0.4, crop_fraction=1.0, cfg=None, tracker=botsort.yaml, save_dir=runs\\classify\\train53\n",
      "\u001b[34m\u001b[1mtrain:\u001b[0m C:\\Users\\\\Desktop\\ultralytics-main\\datasets\\eyes_split\\train... found 5110 images in 8 classes  \n",
      "\u001b[34m\u001b[1mval:\u001b[0m C:\\Users\\\\Desktop\\ultralytics-main\\datasets\\eyes_split\\val... found 1282 images in 8 classes  \n",
      "\u001b[34m\u001b[1mtest:\u001b[0m None...\n",
      "Overriding model.yaml nc=1000 with nc=8\n",
      "\n",
      "                   from  n    params  module                                       arguments                     \n",
      "  0                  -1  1       464  ultralytics.nn.modules.conv.Conv             [3, 16, 3, 2]                 \n",
      "  1                  -1  1      4672  ultralytics.nn.modules.conv.Conv             [16, 32, 3, 2]                \n",
      "  2                  -1  1      7360  ultralytics.nn.modules.block.C2f             [32, 32, 1, True]             \n",
      "  3                  -1  1     18560  ultralytics.nn.modules.conv.Conv             [32, 64, 3, 2]                \n",
      "  4                  -1  2     49664  ultralytics.nn.modules.block.C2f             [64, 64, 2, True]             \n",
      "  5                  -1  1     73984  ultralytics.nn.modules.conv.Conv             [64, 128, 3, 2]               \n",
      "  6                  -1  2    197632  ultralytics.nn.modules.block.C2f             [128, 128, 2, True]           \n",
      "  7                  -1  1    295424  ultralytics.nn.modules.conv.Conv             [128, 256, 3, 2]              \n",
      "  8                  -1  1    460288  ultralytics.nn.modules.block.C2f             [256, 256, 1, True]           \n",
      "  9                  -1  1    340488  ultralytics.nn.modules.head.Classify         [256, 8]                      \n",
      "YOLOv8n-cls summary: 56 layers, 1,448,536 parameters, 1,448,536 gradients, 3.4 GFLOPs\n",
      "Transferred 156/158 items from pretrained weights\n",
      "\u001b[34m\u001b[1mAMP: \u001b[0mrunning Automatic Mixed Precision (AMP) checks...\n",
      "\u001b[34m\u001b[1mAMP: \u001b[0mchecks passed \n"
     ]
    },
    {
     "name": "stderr",
     "output_type": "stream",
     "text": [
      "\u001b[34m\u001b[1mtrain: \u001b[0mScanning C:\\Users\\宋德祥\\Desktop\\ultralytics-main\\datasets\\eyes_split\\train... 5110 images, 0 corrupt: 100%|████\u001b[0m\n",
      "\u001b[34m\u001b[1mval: \u001b[0mScanning C:\\Users\\宋德祥\\Desktop\\ultralytics-main\\datasets\\eyes_split\\val... 1282 images, 0 corrupt: 100%|████████\u001b[0m\n"
     ]
    },
    {
     "name": "stdout",
     "output_type": "stream",
     "text": [
      "\u001b[34m\u001b[1moptimizer:\u001b[0m 'optimizer=auto' found, ignoring 'lr0=0.0001' and 'momentum=0.937' and determining best 'optimizer', 'lr0' and 'momentum' automatically... \n",
      "\u001b[34m\u001b[1moptimizer:\u001b[0m SGD(lr=0.01, momentum=0.9) with parameter groups 26 weight(decay=0.0), 27 weight(decay=0.001), 27 bias(decay=0.0)\n",
      "Image sizes 512 train, 512 val\n",
      "Using 8 dataloader workers\n",
      "Logging results to \u001b[1mruns\\classify\\train53\u001b[0m\n",
      "Starting training for 200 epochs...\n",
      "\n",
      "      Epoch    GPU_mem       loss  Instances       Size\n"
     ]
    },
    {
     "name": "stderr",
     "output_type": "stream",
     "text": [
      "      1/200      1.79G      1.473          6        512: 100%|██████████| 320/320 [00:23<00:00, 13.86it/s]\n",
      "               classes   top1_acc   top5_acc: 100%|██████████| 41/41 [00:03<00:00, 11.31it/s]"
     ]
    },
    {
     "name": "stdout",
     "output_type": "stream",
     "text": [
      "                   all      0.546       0.97\n",
      "\n",
      "      Epoch    GPU_mem       loss  Instances       Size\n"
     ]
    },
    {
     "name": "stderr",
     "output_type": "stream",
     "text": [
      "\n",
      "      2/200      1.79G      1.283          6        512: 100%|██████████| 320/320 [00:20<00:00, 15.88it/s]\n",
      "               classes   top1_acc   top5_acc: 100%|██████████| 41/41 [00:03<00:00, 12.18it/s]"
     ]
    },
    {
     "name": "stdout",
     "output_type": "stream",
     "text": [
      "                   all      0.566      0.977\n"
     ]
    },
    {
     "name": "stderr",
     "output_type": "stream",
     "text": [
      "\n"
     ]
    },
    {
     "name": "stdout",
     "output_type": "stream",
     "text": [
      "\n",
      "      Epoch    GPU_mem       loss  Instances       Size\n"
     ]
    },
    {
     "name": "stderr",
     "output_type": "stream",
     "text": [
      "      3/200      1.79G      1.322          6        512: 100%|██████████| 320/320 [00:19<00:00, 16.31it/s]\n",
      "               classes   top1_acc   top5_acc: 100%|██████████| 41/41 [00:03<00:00, 11.75it/s]"
     ]
    },
    {
     "name": "stdout",
     "output_type": "stream",
     "text": [
      "                   all      0.522      0.974\n"
     ]
    },
    {
     "name": "stderr",
     "output_type": "stream",
     "text": [
      "\n"
     ]
    },
    {
     "name": "stdout",
     "output_type": "stream",
     "text": [
      "\n",
      "      Epoch    GPU_mem       loss  Instances       Size\n"
     ]
    },
    {
     "name": "stderr",
     "output_type": "stream",
     "text": [
      "      4/200      1.79G       1.35          6        512: 100%|██████████| 320/320 [00:19<00:00, 16.19it/s]\n",
      "               classes   top1_acc   top5_acc: 100%|██████████| 41/41 [00:03<00:00, 11.72it/s]"
     ]
    },
    {
     "name": "stdout",
     "output_type": "stream",
     "text": [
      "                   all      0.563      0.967\n"
     ]
    },
    {
     "name": "stderr",
     "output_type": "stream",
     "text": [
      "\n"
     ]
    },
    {
     "name": "stdout",
     "output_type": "stream",
     "text": [
      "\n",
      "      Epoch    GPU_mem       loss  Instances       Size\n"
     ]
    },
    {
     "name": "stderr",
     "output_type": "stream",
     "text": [
      "      5/200      1.79G      1.222          6        512: 100%|██████████| 320/320 [00:19<00:00, 16.28it/s]\n",
      "               classes   top1_acc   top5_acc: 100%|██████████| 41/41 [00:03<00:00, 11.95it/s]"
     ]
    },
    {
     "name": "stdout",
     "output_type": "stream",
     "text": [
      "                   all      0.594      0.979\n"
     ]
    },
    {
     "name": "stderr",
     "output_type": "stream",
     "text": [
      "\n"
     ]
    },
    {
     "name": "stdout",
     "output_type": "stream",
     "text": [
      "\n",
      "      Epoch    GPU_mem       loss  Instances       Size\n"
     ]
    },
    {
     "name": "stderr",
     "output_type": "stream",
     "text": [
      "      6/200      1.79G      1.167          6        512: 100%|██████████| 320/320 [00:19<00:00, 16.19it/s]\n",
      "               classes   top1_acc   top5_acc: 100%|██████████| 41/41 [00:03<00:00, 12.03it/s]"
     ]
    },
    {
     "name": "stdout",
     "output_type": "stream",
     "text": [
      "                   all      0.599      0.984\n",
      "\n",
      "      Epoch    GPU_mem       loss  Instances       Size\n"
     ]
    },
    {
     "name": "stderr",
     "output_type": "stream",
     "text": [
      "\n",
      "      7/200      1.79G      1.127          6        512: 100%|██████████| 320/320 [00:19<00:00, 16.13it/s]\n",
      "               classes   top1_acc   top5_acc: 100%|██████████| 41/41 [00:03<00:00, 12.03it/s]"
     ]
    },
    {
     "name": "stdout",
     "output_type": "stream",
     "text": [
      "                   all      0.609      0.974\n"
     ]
    },
    {
     "name": "stderr",
     "output_type": "stream",
     "text": [
      "\n"
     ]
    },
    {
     "name": "stdout",
     "output_type": "stream",
     "text": [
      "\n",
      "      Epoch    GPU_mem       loss  Instances       Size\n"
     ]
    },
    {
     "name": "stderr",
     "output_type": "stream",
     "text": [
      "      8/200      1.79G      1.097          6        512: 100%|██████████| 320/320 [00:19<00:00, 16.08it/s]\n",
      "               classes   top1_acc   top5_acc: 100%|██████████| 41/41 [00:03<00:00, 11.96it/s]"
     ]
    },
    {
     "name": "stdout",
     "output_type": "stream",
     "text": [
      "                   all      0.628      0.987\n",
      "\n",
      "      Epoch    GPU_mem       loss  Instances       Size\n"
     ]
    },
    {
     "name": "stderr",
     "output_type": "stream",
     "text": [
      "\n",
      "      9/200      1.79G      1.056          6        512: 100%|██████████| 320/320 [00:19<00:00, 16.10it/s]\n",
      "               classes   top1_acc   top5_acc: 100%|██████████| 41/41 [00:03<00:00, 11.83it/s]"
     ]
    },
    {
     "name": "stdout",
     "output_type": "stream",
     "text": [
      "                   all      0.629      0.984\n"
     ]
    },
    {
     "name": "stderr",
     "output_type": "stream",
     "text": [
      "\n"
     ]
    },
    {
     "name": "stdout",
     "output_type": "stream",
     "text": [
      "\n",
      "      Epoch    GPU_mem       loss  Instances       Size\n"
     ]
    },
    {
     "name": "stderr",
     "output_type": "stream",
     "text": [
      "     10/200      1.79G      1.039          6        512: 100%|██████████| 320/320 [00:19<00:00, 16.31it/s]\n",
      "               classes   top1_acc   top5_acc: 100%|██████████| 41/41 [00:03<00:00, 11.79it/s]"
     ]
    },
    {
     "name": "stdout",
     "output_type": "stream",
     "text": [
      "                   all      0.629      0.986\n"
     ]
    },
    {
     "name": "stderr",
     "output_type": "stream",
     "text": [
      "\n"
     ]
    },
    {
     "name": "stdout",
     "output_type": "stream",
     "text": [
      "\n",
      "      Epoch    GPU_mem       loss  Instances       Size\n"
     ]
    },
    {
     "name": "stderr",
     "output_type": "stream",
     "text": [
      "     11/200      1.79G      1.007          6        512: 100%|██████████| 320/320 [00:20<00:00, 15.99it/s]\n",
      "               classes   top1_acc   top5_acc: 100%|██████████| 41/41 [00:03<00:00, 12.22it/s]"
     ]
    },
    {
     "name": "stdout",
     "output_type": "stream",
     "text": [
      "                   all      0.666      0.991\n"
     ]
    },
    {
     "name": "stderr",
     "output_type": "stream",
     "text": [
      "\n"
     ]
    },
    {
     "name": "stdout",
     "output_type": "stream",
     "text": [
      "\n",
      "      Epoch    GPU_mem       loss  Instances       Size\n"
     ]
    },
    {
     "name": "stderr",
     "output_type": "stream",
     "text": [
      "     12/200      1.79G      1.011          6        512: 100%|██████████| 320/320 [00:19<00:00, 16.24it/s]\n",
      "               classes   top1_acc   top5_acc: 100%|██████████| 41/41 [00:03<00:00, 11.79it/s]"
     ]
    },
    {
     "name": "stdout",
     "output_type": "stream",
     "text": [
      "                   all      0.663      0.988\n"
     ]
    },
    {
     "name": "stderr",
     "output_type": "stream",
     "text": [
      "\n"
     ]
    },
    {
     "name": "stdout",
     "output_type": "stream",
     "text": [
      "\n",
      "      Epoch    GPU_mem       loss  Instances       Size\n"
     ]
    },
    {
     "name": "stderr",
     "output_type": "stream",
     "text": [
      "     13/200      1.79G      0.991          6        512: 100%|██████████| 320/320 [00:19<00:00, 16.17it/s]\n",
      "               classes   top1_acc   top5_acc: 100%|██████████| 41/41 [00:03<00:00, 11.75it/s]"
     ]
    },
    {
     "name": "stdout",
     "output_type": "stream",
     "text": [
      "                   all      0.649      0.987\n",
      "\n",
      "      Epoch    GPU_mem       loss  Instances       Size\n"
     ]
    },
    {
     "name": "stderr",
     "output_type": "stream",
     "text": [
      "\n",
      "     14/200      1.79G     0.9706          6        512: 100%|██████████| 320/320 [00:19<00:00, 16.11it/s]\n",
      "               classes   top1_acc   top5_acc: 100%|██████████| 41/41 [00:03<00:00, 12.10it/s]"
     ]
    },
    {
     "name": "stdout",
     "output_type": "stream",
     "text": [
      "                   all      0.669      0.982\n",
      "\n",
      "      Epoch    GPU_mem       loss  Instances       Size\n"
     ]
    },
    {
     "name": "stderr",
     "output_type": "stream",
     "text": [
      "\n",
      "     15/200      1.79G      0.957          6        512: 100%|██████████| 320/320 [00:19<00:00, 16.14it/s]\n",
      "               classes   top1_acc   top5_acc: 100%|██████████| 41/41 [00:03<00:00, 12.21it/s]"
     ]
    },
    {
     "name": "stdout",
     "output_type": "stream",
     "text": [
      "                   all      0.672      0.989\n"
     ]
    },
    {
     "name": "stderr",
     "output_type": "stream",
     "text": [
      "\n"
     ]
    },
    {
     "name": "stdout",
     "output_type": "stream",
     "text": [
      "\n",
      "      Epoch    GPU_mem       loss  Instances       Size\n"
     ]
    },
    {
     "name": "stderr",
     "output_type": "stream",
     "text": [
      "     16/200      1.79G     0.9428          6        512: 100%|██████████| 320/320 [00:19<00:00, 16.04it/s]\n",
      "               classes   top1_acc   top5_acc: 100%|██████████| 41/41 [00:03<00:00, 12.28it/s]"
     ]
    },
    {
     "name": "stdout",
     "output_type": "stream",
     "text": [
      "                   all      0.657      0.991\n",
      "\n",
      "      Epoch    GPU_mem       loss  Instances       Size\n"
     ]
    },
    {
     "name": "stderr",
     "output_type": "stream",
     "text": [
      "\n",
      "     17/200      1.79G     0.9412          6        512: 100%|██████████| 320/320 [00:19<00:00, 16.10it/s]\n",
      "               classes   top1_acc   top5_acc: 100%|██████████| 41/41 [00:03<00:00, 12.21it/s]"
     ]
    },
    {
     "name": "stdout",
     "output_type": "stream",
     "text": [
      "                   all      0.663      0.992\n",
      "\n",
      "      Epoch    GPU_mem       loss  Instances       Size\n"
     ]
    },
    {
     "name": "stderr",
     "output_type": "stream",
     "text": [
      "\n",
      "     18/200      1.79G     0.9303          6        512: 100%|██████████| 320/320 [00:19<00:00, 16.10it/s]\n",
      "               classes   top1_acc   top5_acc: 100%|██████████| 41/41 [00:03<00:00, 12.39it/s]"
     ]
    },
    {
     "name": "stdout",
     "output_type": "stream",
     "text": [
      "                   all      0.676      0.991\n",
      "\n",
      "      Epoch    GPU_mem       loss  Instances       Size\n"
     ]
    },
    {
     "name": "stderr",
     "output_type": "stream",
     "text": [
      "\n",
      "     19/200      1.79G     0.9007          6        512: 100%|██████████| 320/320 [00:20<00:00, 15.99it/s]\n",
      "               classes   top1_acc   top5_acc: 100%|██████████| 41/41 [00:03<00:00, 12.50it/s]"
     ]
    },
    {
     "name": "stdout",
     "output_type": "stream",
     "text": [
      "                   all      0.665      0.991\n"
     ]
    },
    {
     "name": "stderr",
     "output_type": "stream",
     "text": [
      "\n"
     ]
    },
    {
     "name": "stdout",
     "output_type": "stream",
     "text": [
      "\n",
      "      Epoch    GPU_mem       loss  Instances       Size\n"
     ]
    },
    {
     "name": "stderr",
     "output_type": "stream",
     "text": [
      "     20/200      1.79G     0.9131          6        512: 100%|██████████| 320/320 [00:19<00:00, 16.21it/s]\n",
      "               classes   top1_acc   top5_acc: 100%|██████████| 41/41 [00:03<00:00, 12.13it/s]"
     ]
    },
    {
     "name": "stdout",
     "output_type": "stream",
     "text": [
      "                   all      0.665      0.991\n",
      "\n",
      "      Epoch    GPU_mem       loss  Instances       Size\n"
     ]
    },
    {
     "name": "stderr",
     "output_type": "stream",
     "text": [
      "\n",
      "     21/200      1.79G     0.8973          6        512: 100%|██████████| 320/320 [00:19<00:00, 16.23it/s]\n",
      "               classes   top1_acc   top5_acc: 100%|██████████| 41/41 [00:03<00:00, 12.05it/s]"
     ]
    },
    {
     "name": "stdout",
     "output_type": "stream",
     "text": [
      "                   all      0.658      0.985\n",
      "\n",
      "      Epoch    GPU_mem       loss  Instances       Size\n"
     ]
    },
    {
     "name": "stderr",
     "output_type": "stream",
     "text": [
      "\n",
      "     22/200      1.79G     0.8966          6        512: 100%|██████████| 320/320 [00:19<00:00, 16.06it/s]\n",
      "               classes   top1_acc   top5_acc: 100%|██████████| 41/41 [00:03<00:00, 11.78it/s]"
     ]
    },
    {
     "name": "stdout",
     "output_type": "stream",
     "text": [
      "                   all      0.669      0.992\n"
     ]
    },
    {
     "name": "stderr",
     "output_type": "stream",
     "text": [
      "\n"
     ]
    },
    {
     "name": "stdout",
     "output_type": "stream",
     "text": [
      "\n",
      "      Epoch    GPU_mem       loss  Instances       Size\n"
     ]
    },
    {
     "name": "stderr",
     "output_type": "stream",
     "text": [
      "     23/200      1.79G     0.9057          6        512: 100%|██████████| 320/320 [00:19<00:00, 16.19it/s]\n",
      "               classes   top1_acc   top5_acc: 100%|██████████| 41/41 [00:03<00:00, 11.94it/s]"
     ]
    },
    {
     "name": "stdout",
     "output_type": "stream",
     "text": [
      "                   all      0.668      0.992\n"
     ]
    },
    {
     "name": "stderr",
     "output_type": "stream",
     "text": [
      "\n"
     ]
    },
    {
     "name": "stdout",
     "output_type": "stream",
     "text": [
      "\n",
      "      Epoch    GPU_mem       loss  Instances       Size\n"
     ]
    },
    {
     "name": "stderr",
     "output_type": "stream",
     "text": [
      "     24/200      1.79G     0.8842          6        512: 100%|██████████| 320/320 [00:19<00:00, 16.26it/s]\n",
      "               classes   top1_acc   top5_acc: 100%|██████████| 41/41 [00:03<00:00, 11.78it/s]"
     ]
    },
    {
     "name": "stdout",
     "output_type": "stream",
     "text": [
      "                   all      0.667       0.99\n"
     ]
    },
    {
     "name": "stderr",
     "output_type": "stream",
     "text": [
      "\n"
     ]
    },
    {
     "name": "stdout",
     "output_type": "stream",
     "text": [
      "\n",
      "      Epoch    GPU_mem       loss  Instances       Size\n"
     ]
    },
    {
     "name": "stderr",
     "output_type": "stream",
     "text": [
      "     25/200      1.79G     0.8536          6        512: 100%|██████████| 320/320 [00:19<00:00, 16.14it/s]\n",
      "               classes   top1_acc   top5_acc: 100%|██████████| 41/41 [00:03<00:00, 12.18it/s]"
     ]
    },
    {
     "name": "stdout",
     "output_type": "stream",
     "text": [
      "                   all      0.678      0.992\n",
      "\n",
      "      Epoch    GPU_mem       loss  Instances       Size\n"
     ]
    },
    {
     "name": "stderr",
     "output_type": "stream",
     "text": [
      "\n",
      "     26/200      1.79G     0.8783          6        512: 100%|██████████| 320/320 [00:19<00:00, 16.05it/s]\n",
      "               classes   top1_acc   top5_acc: 100%|██████████| 41/41 [00:03<00:00, 12.06it/s]"
     ]
    },
    {
     "name": "stdout",
     "output_type": "stream",
     "text": [
      "                   all       0.67      0.989\n",
      "\n",
      "      Epoch    GPU_mem       loss  Instances       Size\n"
     ]
    },
    {
     "name": "stderr",
     "output_type": "stream",
     "text": [
      "\n",
      "     27/200      1.79G     0.8605          6        512: 100%|██████████| 320/320 [00:19<00:00, 16.25it/s]\n",
      "               classes   top1_acc   top5_acc: 100%|██████████| 41/41 [00:03<00:00, 11.63it/s]"
     ]
    },
    {
     "name": "stdout",
     "output_type": "stream",
     "text": [
      "                   all      0.682      0.995\n"
     ]
    },
    {
     "name": "stderr",
     "output_type": "stream",
     "text": [
      "\n"
     ]
    },
    {
     "name": "stdout",
     "output_type": "stream",
     "text": [
      "\n",
      "      Epoch    GPU_mem       loss  Instances       Size\n"
     ]
    },
    {
     "name": "stderr",
     "output_type": "stream",
     "text": [
      "     28/200      1.79G     0.8538          6        512: 100%|██████████| 320/320 [00:19<00:00, 16.17it/s]\n",
      "               classes   top1_acc   top5_acc: 100%|██████████| 41/41 [00:03<00:00, 12.15it/s]"
     ]
    },
    {
     "name": "stdout",
     "output_type": "stream",
     "text": [
      "                   all      0.684      0.995\n"
     ]
    },
    {
     "name": "stderr",
     "output_type": "stream",
     "text": [
      "\n"
     ]
    },
    {
     "name": "stdout",
     "output_type": "stream",
     "text": [
      "\n",
      "      Epoch    GPU_mem       loss  Instances       Size\n"
     ]
    },
    {
     "name": "stderr",
     "output_type": "stream",
     "text": [
      "     29/200      1.79G     0.8602          6        512: 100%|██████████| 320/320 [00:19<00:00, 16.20it/s]\n",
      "               classes   top1_acc   top5_acc: 100%|██████████| 41/41 [00:03<00:00, 11.76it/s]"
     ]
    },
    {
     "name": "stdout",
     "output_type": "stream",
     "text": [
      "                   all      0.683      0.991\n"
     ]
    },
    {
     "name": "stderr",
     "output_type": "stream",
     "text": [
      "\n"
     ]
    },
    {
     "name": "stdout",
     "output_type": "stream",
     "text": [
      "\n",
      "      Epoch    GPU_mem       loss  Instances       Size\n"
     ]
    },
    {
     "name": "stderr",
     "output_type": "stream",
     "text": [
      "     30/200      1.79G     0.8405          6        512: 100%|██████████| 320/320 [00:20<00:00, 15.99it/s]\n",
      "               classes   top1_acc   top5_acc: 100%|██████████| 41/41 [00:03<00:00, 11.84it/s]"
     ]
    },
    {
     "name": "stdout",
     "output_type": "stream",
     "text": [
      "                   all      0.676      0.991\n"
     ]
    },
    {
     "name": "stderr",
     "output_type": "stream",
     "text": [
      "\n"
     ]
    },
    {
     "name": "stdout",
     "output_type": "stream",
     "text": [
      "\n",
      "      Epoch    GPU_mem       loss  Instances       Size\n"
     ]
    },
    {
     "name": "stderr",
     "output_type": "stream",
     "text": [
      "     31/200      1.79G     0.8522          6        512: 100%|██████████| 320/320 [00:19<00:00, 16.07it/s]\n",
      "               classes   top1_acc   top5_acc: 100%|██████████| 41/41 [00:03<00:00, 12.33it/s]"
     ]
    },
    {
     "name": "stdout",
     "output_type": "stream",
     "text": [
      "                   all       0.69      0.994\n",
      "\n",
      "      Epoch    GPU_mem       loss  Instances       Size\n"
     ]
    },
    {
     "name": "stderr",
     "output_type": "stream",
     "text": [
      "\n",
      "     32/200      1.79G     0.8368          6        512: 100%|██████████| 320/320 [00:19<00:00, 16.03it/s]\n",
      "               classes   top1_acc   top5_acc: 100%|██████████| 41/41 [00:03<00:00, 12.25it/s]"
     ]
    },
    {
     "name": "stdout",
     "output_type": "stream",
     "text": [
      "                   all      0.686      0.994\n"
     ]
    },
    {
     "name": "stderr",
     "output_type": "stream",
     "text": [
      "\n"
     ]
    },
    {
     "name": "stdout",
     "output_type": "stream",
     "text": [
      "\n",
      "      Epoch    GPU_mem       loss  Instances       Size\n"
     ]
    },
    {
     "name": "stderr",
     "output_type": "stream",
     "text": [
      "     33/200      1.79G     0.8397          6        512: 100%|██████████| 320/320 [00:19<00:00, 16.14it/s]\n",
      "               classes   top1_acc   top5_acc: 100%|██████████| 41/41 [00:03<00:00, 11.98it/s]"
     ]
    },
    {
     "name": "stdout",
     "output_type": "stream",
     "text": [
      "                   all      0.704      0.992\n",
      "\n",
      "      Epoch    GPU_mem       loss  Instances       Size\n"
     ]
    },
    {
     "name": "stderr",
     "output_type": "stream",
     "text": [
      "\n",
      "     34/200      1.79G     0.8245          6        512: 100%|██████████| 320/320 [00:19<00:00, 16.08it/s]\n",
      "               classes   top1_acc   top5_acc: 100%|██████████| 41/41 [00:03<00:00, 12.48it/s]"
     ]
    },
    {
     "name": "stdout",
     "output_type": "stream",
     "text": [
      "                   all      0.677      0.989\n",
      "\n",
      "      Epoch    GPU_mem       loss  Instances       Size\n"
     ]
    },
    {
     "name": "stderr",
     "output_type": "stream",
     "text": [
      "\n",
      "     35/200      1.79G     0.8275          6        512: 100%|██████████| 320/320 [00:19<00:00, 16.25it/s]\n",
      "               classes   top1_acc   top5_acc: 100%|██████████| 41/41 [00:03<00:00, 11.92it/s]"
     ]
    },
    {
     "name": "stdout",
     "output_type": "stream",
     "text": [
      "                   all      0.693      0.993\n",
      "\n",
      "      Epoch    GPU_mem       loss  Instances       Size\n"
     ]
    },
    {
     "name": "stderr",
     "output_type": "stream",
     "text": [
      "\n",
      "     36/200      1.79G     0.8085          6        512: 100%|██████████| 320/320 [00:19<00:00, 16.17it/s]\n",
      "               classes   top1_acc   top5_acc: 100%|██████████| 41/41 [00:03<00:00, 12.07it/s]"
     ]
    },
    {
     "name": "stdout",
     "output_type": "stream",
     "text": [
      "                   all      0.705      0.995\n"
     ]
    },
    {
     "name": "stderr",
     "output_type": "stream",
     "text": [
      "\n"
     ]
    },
    {
     "name": "stdout",
     "output_type": "stream",
     "text": [
      "\n",
      "      Epoch    GPU_mem       loss  Instances       Size\n"
     ]
    },
    {
     "name": "stderr",
     "output_type": "stream",
     "text": [
      "     37/200      1.79G     0.8334          6        512: 100%|██████████| 320/320 [00:19<00:00, 16.13it/s]\n",
      "               classes   top1_acc   top5_acc: 100%|██████████| 41/41 [00:03<00:00, 12.18it/s]"
     ]
    },
    {
     "name": "stdout",
     "output_type": "stream",
     "text": [
      "                   all      0.697      0.995\n"
     ]
    },
    {
     "name": "stderr",
     "output_type": "stream",
     "text": [
      "\n"
     ]
    },
    {
     "name": "stdout",
     "output_type": "stream",
     "text": [
      "\n",
      "      Epoch    GPU_mem       loss  Instances       Size\n"
     ]
    },
    {
     "name": "stderr",
     "output_type": "stream",
     "text": [
      "     38/200      1.79G     0.8129          6        512: 100%|██████████| 320/320 [00:19<00:00, 16.12it/s]\n",
      "               classes   top1_acc   top5_acc: 100%|██████████| 41/41 [00:03<00:00, 12.50it/s]"
     ]
    },
    {
     "name": "stdout",
     "output_type": "stream",
     "text": [
      "                   all      0.686      0.991\n"
     ]
    },
    {
     "name": "stderr",
     "output_type": "stream",
     "text": [
      "\n"
     ]
    },
    {
     "name": "stdout",
     "output_type": "stream",
     "text": [
      "\n",
      "      Epoch    GPU_mem       loss  Instances       Size\n"
     ]
    },
    {
     "name": "stderr",
     "output_type": "stream",
     "text": [
      "     39/200      1.79G     0.7782          6        512: 100%|██████████| 320/320 [00:19<00:00, 16.23it/s]\n",
      "               classes   top1_acc   top5_acc: 100%|██████████| 41/41 [00:03<00:00, 11.67it/s]"
     ]
    },
    {
     "name": "stdout",
     "output_type": "stream",
     "text": [
      "                   all      0.692      0.992\n"
     ]
    },
    {
     "name": "stderr",
     "output_type": "stream",
     "text": [
      "\n"
     ]
    },
    {
     "name": "stdout",
     "output_type": "stream",
     "text": [
      "\n",
      "      Epoch    GPU_mem       loss  Instances       Size\n"
     ]
    },
    {
     "name": "stderr",
     "output_type": "stream",
     "text": [
      "     40/200      1.79G     0.8032          6        512: 100%|██████████| 320/320 [00:19<00:00, 16.17it/s]\n",
      "               classes   top1_acc   top5_acc: 100%|██████████| 41/41 [00:03<00:00, 12.09it/s]"
     ]
    },
    {
     "name": "stdout",
     "output_type": "stream",
     "text": [
      "                   all      0.696      0.992\n"
     ]
    },
    {
     "name": "stderr",
     "output_type": "stream",
     "text": [
      "\n"
     ]
    },
    {
     "name": "stdout",
     "output_type": "stream",
     "text": [
      "\n",
      "      Epoch    GPU_mem       loss  Instances       Size\n"
     ]
    },
    {
     "name": "stderr",
     "output_type": "stream",
     "text": [
      "     41/200      1.79G     0.7974          6        512: 100%|██████████| 320/320 [00:19<00:00, 16.08it/s]\n",
      "               classes   top1_acc   top5_acc: 100%|██████████| 41/41 [00:03<00:00, 12.15it/s]"
     ]
    },
    {
     "name": "stdout",
     "output_type": "stream",
     "text": [
      "                   all      0.698      0.991\n"
     ]
    },
    {
     "name": "stderr",
     "output_type": "stream",
     "text": [
      "\n"
     ]
    },
    {
     "name": "stdout",
     "output_type": "stream",
     "text": [
      "\n",
      "      Epoch    GPU_mem       loss  Instances       Size\n"
     ]
    },
    {
     "name": "stderr",
     "output_type": "stream",
     "text": [
      "     42/200      1.79G     0.8136          6        512: 100%|██████████| 320/320 [00:19<00:00, 16.15it/s]\n",
      "               classes   top1_acc   top5_acc: 100%|██████████| 41/41 [00:03<00:00, 11.72it/s]"
     ]
    },
    {
     "name": "stdout",
     "output_type": "stream",
     "text": [
      "                   all      0.693      0.992\n"
     ]
    },
    {
     "name": "stderr",
     "output_type": "stream",
     "text": [
      "\n"
     ]
    },
    {
     "name": "stdout",
     "output_type": "stream",
     "text": [
      "\n",
      "      Epoch    GPU_mem       loss  Instances       Size\n"
     ]
    },
    {
     "name": "stderr",
     "output_type": "stream",
     "text": [
      "     43/200      1.79G      0.793          6        512: 100%|██████████| 320/320 [00:19<00:00, 16.22it/s]\n",
      "               classes   top1_acc   top5_acc: 100%|██████████| 41/41 [00:03<00:00, 12.16it/s]"
     ]
    },
    {
     "name": "stdout",
     "output_type": "stream",
     "text": [
      "                   all      0.692      0.991\n"
     ]
    },
    {
     "name": "stderr",
     "output_type": "stream",
     "text": [
      "\n"
     ]
    },
    {
     "name": "stdout",
     "output_type": "stream",
     "text": [
      "\n",
      "      Epoch    GPU_mem       loss  Instances       Size\n"
     ]
    },
    {
     "name": "stderr",
     "output_type": "stream",
     "text": [
      "     44/200      1.79G     0.7885          6        512: 100%|██████████| 320/320 [00:19<00:00, 16.24it/s]\n",
      "               classes   top1_acc   top5_acc: 100%|██████████| 41/41 [00:03<00:00, 12.10it/s]"
     ]
    },
    {
     "name": "stdout",
     "output_type": "stream",
     "text": [
      "                   all      0.687      0.992\n"
     ]
    },
    {
     "name": "stderr",
     "output_type": "stream",
     "text": [
      "\n"
     ]
    },
    {
     "name": "stdout",
     "output_type": "stream",
     "text": [
      "\n",
      "      Epoch    GPU_mem       loss  Instances       Size\n"
     ]
    },
    {
     "name": "stderr",
     "output_type": "stream",
     "text": [
      "     45/200      1.79G      0.786          6        512: 100%|██████████| 320/320 [00:19<00:00, 16.18it/s]\n",
      "               classes   top1_acc   top5_acc: 100%|██████████| 41/41 [00:03<00:00, 12.04it/s]"
     ]
    },
    {
     "name": "stdout",
     "output_type": "stream",
     "text": [
      "                   all      0.699      0.988\n"
     ]
    },
    {
     "name": "stderr",
     "output_type": "stream",
     "text": [
      "\n"
     ]
    },
    {
     "name": "stdout",
     "output_type": "stream",
     "text": [
      "\n",
      "      Epoch    GPU_mem       loss  Instances       Size\n"
     ]
    },
    {
     "name": "stderr",
     "output_type": "stream",
     "text": [
      "     46/200      1.79G     0.7812          6        512: 100%|██████████| 320/320 [00:19<00:00, 16.06it/s]\n",
      "               classes   top1_acc   top5_acc: 100%|██████████| 41/41 [00:03<00:00, 12.32it/s]"
     ]
    },
    {
     "name": "stdout",
     "output_type": "stream",
     "text": [
      "                   all      0.704      0.994\n",
      "\n",
      "      Epoch    GPU_mem       loss  Instances       Size\n"
     ]
    },
    {
     "name": "stderr",
     "output_type": "stream",
     "text": [
      "\n",
      "     47/200      1.79G     0.7966          6        512: 100%|██████████| 320/320 [00:19<00:00, 16.24it/s]\n",
      "               classes   top1_acc   top5_acc: 100%|██████████| 41/41 [00:03<00:00, 11.76it/s]"
     ]
    },
    {
     "name": "stdout",
     "output_type": "stream",
     "text": [
      "                   all      0.699       0.99\n"
     ]
    },
    {
     "name": "stderr",
     "output_type": "stream",
     "text": [
      "\n"
     ]
    },
    {
     "name": "stdout",
     "output_type": "stream",
     "text": [
      "\n",
      "      Epoch    GPU_mem       loss  Instances       Size\n"
     ]
    },
    {
     "name": "stderr",
     "output_type": "stream",
     "text": [
      "     48/200      1.79G     0.7676          6        512: 100%|██████████| 320/320 [00:19<00:00, 16.14it/s]\n",
      "               classes   top1_acc   top5_acc: 100%|██████████| 41/41 [00:03<00:00, 12.13it/s]"
     ]
    },
    {
     "name": "stdout",
     "output_type": "stream",
     "text": [
      "                   all      0.687      0.991\n"
     ]
    },
    {
     "name": "stderr",
     "output_type": "stream",
     "text": [
      "\n"
     ]
    },
    {
     "name": "stdout",
     "output_type": "stream",
     "text": [
      "\n",
      "      Epoch    GPU_mem       loss  Instances       Size\n"
     ]
    },
    {
     "name": "stderr",
     "output_type": "stream",
     "text": [
      "     49/200      1.79G     0.7671          6        512: 100%|██████████| 320/320 [00:19<00:00, 16.16it/s]\n",
      "               classes   top1_acc   top5_acc: 100%|██████████| 41/41 [00:03<00:00, 12.34it/s]"
     ]
    },
    {
     "name": "stdout",
     "output_type": "stream",
     "text": [
      "                   all      0.699       0.99\n"
     ]
    },
    {
     "name": "stderr",
     "output_type": "stream",
     "text": [
      "\n"
     ]
    },
    {
     "name": "stdout",
     "output_type": "stream",
     "text": [
      "\n",
      "      Epoch    GPU_mem       loss  Instances       Size\n"
     ]
    },
    {
     "name": "stderr",
     "output_type": "stream",
     "text": [
      "     50/200      1.79G     0.7664          6        512: 100%|██████████| 320/320 [00:19<00:00, 16.09it/s]\n",
      "               classes   top1_acc   top5_acc: 100%|██████████| 41/41 [00:03<00:00, 11.74it/s]"
     ]
    },
    {
     "name": "stdout",
     "output_type": "stream",
     "text": [
      "                   all      0.709      0.991\n"
     ]
    },
    {
     "name": "stderr",
     "output_type": "stream",
     "text": [
      "\n"
     ]
    },
    {
     "name": "stdout",
     "output_type": "stream",
     "text": [
      "\n",
      "      Epoch    GPU_mem       loss  Instances       Size\n"
     ]
    },
    {
     "name": "stderr",
     "output_type": "stream",
     "text": [
      "     51/200      1.79G     0.7528          6        512: 100%|██████████| 320/320 [00:19<00:00, 16.17it/s]\n",
      "               classes   top1_acc   top5_acc: 100%|██████████| 41/41 [00:03<00:00, 11.86it/s]"
     ]
    },
    {
     "name": "stdout",
     "output_type": "stream",
     "text": [
      "                   all      0.707      0.993\n"
     ]
    },
    {
     "name": "stderr",
     "output_type": "stream",
     "text": [
      "\n"
     ]
    },
    {
     "name": "stdout",
     "output_type": "stream",
     "text": [
      "\n",
      "      Epoch    GPU_mem       loss  Instances       Size\n"
     ]
    },
    {
     "name": "stderr",
     "output_type": "stream",
     "text": [
      "     52/200      1.79G      0.753          6        512: 100%|██████████| 320/320 [00:19<00:00, 16.23it/s]\n",
      "               classes   top1_acc   top5_acc: 100%|██████████| 41/41 [00:03<00:00, 11.74it/s]"
     ]
    },
    {
     "name": "stdout",
     "output_type": "stream",
     "text": [
      "                   all        0.7      0.995\n",
      "\n",
      "      Epoch    GPU_mem       loss  Instances       Size\n"
     ]
    },
    {
     "name": "stderr",
     "output_type": "stream",
     "text": [
      "\n",
      "     53/200      1.79G     0.7574          6        512: 100%|██████████| 320/320 [00:19<00:00, 16.22it/s]\n",
      "               classes   top1_acc   top5_acc: 100%|██████████| 41/41 [00:03<00:00, 12.01it/s]"
     ]
    },
    {
     "name": "stdout",
     "output_type": "stream",
     "text": [
      "                   all      0.683      0.995\n"
     ]
    },
    {
     "name": "stderr",
     "output_type": "stream",
     "text": [
      "\n"
     ]
    },
    {
     "name": "stdout",
     "output_type": "stream",
     "text": [
      "\n",
      "      Epoch    GPU_mem       loss  Instances       Size\n"
     ]
    },
    {
     "name": "stderr",
     "output_type": "stream",
     "text": [
      "     54/200      1.79G     0.7654          6        512: 100%|██████████| 320/320 [00:19<00:00, 16.08it/s]\n",
      "               classes   top1_acc   top5_acc: 100%|██████████| 41/41 [00:03<00:00, 12.17it/s]"
     ]
    },
    {
     "name": "stdout",
     "output_type": "stream",
     "text": [
      "                   all      0.701      0.995\n",
      "\n",
      "      Epoch    GPU_mem       loss  Instances       Size\n"
     ]
    },
    {
     "name": "stderr",
     "output_type": "stream",
     "text": [
      "\n",
      "     55/200      1.79G     0.7395          6        512: 100%|██████████| 320/320 [00:19<00:00, 16.19it/s]\n",
      "               classes   top1_acc   top5_acc: 100%|██████████| 41/41 [00:03<00:00, 12.05it/s]"
     ]
    },
    {
     "name": "stdout",
     "output_type": "stream",
     "text": [
      "                   all      0.706      0.993\n"
     ]
    },
    {
     "name": "stderr",
     "output_type": "stream",
     "text": [
      "\n"
     ]
    },
    {
     "name": "stdout",
     "output_type": "stream",
     "text": [
      "\n",
      "      Epoch    GPU_mem       loss  Instances       Size\n"
     ]
    },
    {
     "name": "stderr",
     "output_type": "stream",
     "text": [
      "     56/200      1.79G     0.7424          6        512: 100%|██████████| 320/320 [00:19<00:00, 16.28it/s]\n",
      "               classes   top1_acc   top5_acc: 100%|██████████| 41/41 [00:03<00:00, 11.43it/s]"
     ]
    },
    {
     "name": "stdout",
     "output_type": "stream",
     "text": [
      "                   all      0.706      0.993\n"
     ]
    },
    {
     "name": "stderr",
     "output_type": "stream",
     "text": [
      "\n"
     ]
    },
    {
     "name": "stdout",
     "output_type": "stream",
     "text": [
      "\n",
      "      Epoch    GPU_mem       loss  Instances       Size\n"
     ]
    },
    {
     "name": "stderr",
     "output_type": "stream",
     "text": [
      "     57/200      1.79G     0.7472          6        512: 100%|██████████| 320/320 [00:19<00:00, 16.18it/s]\n",
      "               classes   top1_acc   top5_acc: 100%|██████████| 41/41 [00:03<00:00, 12.00it/s]"
     ]
    },
    {
     "name": "stdout",
     "output_type": "stream",
     "text": [
      "                   all      0.711      0.995\n",
      "\n",
      "      Epoch    GPU_mem       loss  Instances       Size\n"
     ]
    },
    {
     "name": "stderr",
     "output_type": "stream",
     "text": [
      "\n",
      "     58/200      1.79G     0.7404          6        512: 100%|██████████| 320/320 [00:19<00:00, 16.22it/s]\n",
      "               classes   top1_acc   top5_acc: 100%|██████████| 41/41 [00:03<00:00, 11.76it/s]"
     ]
    },
    {
     "name": "stdout",
     "output_type": "stream",
     "text": [
      "                   all      0.707      0.994\n"
     ]
    },
    {
     "name": "stderr",
     "output_type": "stream",
     "text": [
      "\n"
     ]
    },
    {
     "name": "stdout",
     "output_type": "stream",
     "text": [
      "\n",
      "      Epoch    GPU_mem       loss  Instances       Size\n"
     ]
    },
    {
     "name": "stderr",
     "output_type": "stream",
     "text": [
      "     59/200      1.79G     0.7319          6        512: 100%|██████████| 320/320 [00:19<00:00, 16.15it/s]\n",
      "               classes   top1_acc   top5_acc: 100%|██████████| 41/41 [00:03<00:00, 12.18it/s]"
     ]
    },
    {
     "name": "stdout",
     "output_type": "stream",
     "text": [
      "                   all        0.7      0.991\n"
     ]
    },
    {
     "name": "stderr",
     "output_type": "stream",
     "text": [
      "\n"
     ]
    },
    {
     "name": "stdout",
     "output_type": "stream",
     "text": [
      "\n",
      "      Epoch    GPU_mem       loss  Instances       Size\n"
     ]
    },
    {
     "name": "stderr",
     "output_type": "stream",
     "text": [
      "     60/200      1.79G     0.7502          6        512: 100%|██████████| 320/320 [00:19<00:00, 16.06it/s]\n",
      "               classes   top1_acc   top5_acc: 100%|██████████| 41/41 [00:03<00:00, 12.20it/s]"
     ]
    },
    {
     "name": "stdout",
     "output_type": "stream",
     "text": [
      "                   all      0.715      0.993\n",
      "\n",
      "      Epoch    GPU_mem       loss  Instances       Size\n"
     ]
    },
    {
     "name": "stderr",
     "output_type": "stream",
     "text": [
      "\n",
      "     61/200      1.79G     0.7189          6        512: 100%|██████████| 320/320 [00:20<00:00, 15.98it/s]\n",
      "               classes   top1_acc   top5_acc: 100%|██████████| 41/41 [00:03<00:00, 12.12it/s]"
     ]
    },
    {
     "name": "stdout",
     "output_type": "stream",
     "text": [
      "                   all      0.704      0.992\n"
     ]
    },
    {
     "name": "stderr",
     "output_type": "stream",
     "text": [
      "\n"
     ]
    },
    {
     "name": "stdout",
     "output_type": "stream",
     "text": [
      "\n",
      "      Epoch    GPU_mem       loss  Instances       Size\n"
     ]
    },
    {
     "name": "stderr",
     "output_type": "stream",
     "text": [
      "     62/200      1.79G     0.7433          6        512: 100%|██████████| 320/320 [00:19<00:00, 16.17it/s]\n",
      "               classes   top1_acc   top5_acc: 100%|██████████| 41/41 [00:03<00:00, 12.09it/s]"
     ]
    },
    {
     "name": "stdout",
     "output_type": "stream",
     "text": [
      "                   all      0.707      0.991\n"
     ]
    },
    {
     "name": "stderr",
     "output_type": "stream",
     "text": [
      "\n"
     ]
    },
    {
     "name": "stdout",
     "output_type": "stream",
     "text": [
      "\n",
      "      Epoch    GPU_mem       loss  Instances       Size\n"
     ]
    },
    {
     "name": "stderr",
     "output_type": "stream",
     "text": [
      "     63/200      1.79G     0.7339          6        512: 100%|██████████| 320/320 [00:19<00:00, 16.10it/s]\n",
      "               classes   top1_acc   top5_acc: 100%|██████████| 41/41 [00:03<00:00, 11.79it/s]"
     ]
    },
    {
     "name": "stdout",
     "output_type": "stream",
     "text": [
      "                   all       0.71      0.995\n",
      "\n",
      "      Epoch    GPU_mem       loss  Instances       Size\n"
     ]
    },
    {
     "name": "stderr",
     "output_type": "stream",
     "text": [
      "\n",
      "     64/200      1.79G     0.7151          6        512: 100%|██████████| 320/320 [00:19<00:00, 16.18it/s]\n",
      "               classes   top1_acc   top5_acc: 100%|██████████| 41/41 [00:03<00:00, 11.98it/s]"
     ]
    },
    {
     "name": "stdout",
     "output_type": "stream",
     "text": [
      "                   all      0.714      0.994\n"
     ]
    },
    {
     "name": "stderr",
     "output_type": "stream",
     "text": [
      "\n"
     ]
    },
    {
     "name": "stdout",
     "output_type": "stream",
     "text": [
      "\n",
      "      Epoch    GPU_mem       loss  Instances       Size\n"
     ]
    },
    {
     "name": "stderr",
     "output_type": "stream",
     "text": [
      "     65/200      1.79G     0.7253          6        512: 100%|██████████| 320/320 [00:19<00:00, 16.23it/s]\n",
      "               classes   top1_acc   top5_acc: 100%|██████████| 41/41 [00:03<00:00, 11.89it/s]\n"
     ]
    },
    {
     "name": "stdout",
     "output_type": "stream",
     "text": [
      "                   all      0.704      0.996\n",
      "\n",
      "      Epoch    GPU_mem       loss  Instances       Size\n"
     ]
    },
    {
     "name": "stderr",
     "output_type": "stream",
     "text": [
      "     66/200      1.79G     0.7192          6        512: 100%|██████████| 320/320 [00:19<00:00, 16.03it/s]\n",
      "               classes   top1_acc   top5_acc: 100%|██████████| 41/41 [00:03<00:00, 12.26it/s]"
     ]
    },
    {
     "name": "stdout",
     "output_type": "stream",
     "text": [
      "                   all       0.71      0.992\n",
      "\n",
      "      Epoch    GPU_mem       loss  Instances       Size\n"
     ]
    },
    {
     "name": "stderr",
     "output_type": "stream",
     "text": [
      "\n",
      "     67/200      1.79G     0.7093          6        512: 100%|██████████| 320/320 [00:19<00:00, 16.17it/s]\n",
      "               classes   top1_acc   top5_acc: 100%|██████████| 41/41 [00:03<00:00, 12.07it/s]"
     ]
    },
    {
     "name": "stdout",
     "output_type": "stream",
     "text": [
      "                   all      0.713      0.992\n",
      "\n",
      "      Epoch    GPU_mem       loss  Instances       Size\n"
     ]
    },
    {
     "name": "stderr",
     "output_type": "stream",
     "text": [
      "\n",
      "     68/200      1.79G     0.6932          6        512: 100%|██████████| 320/320 [00:19<00:00, 16.07it/s]\n",
      "               classes   top1_acc   top5_acc: 100%|██████████| 41/41 [00:03<00:00, 12.15it/s]"
     ]
    },
    {
     "name": "stdout",
     "output_type": "stream",
     "text": [
      "                   all      0.718      0.995\n"
     ]
    },
    {
     "name": "stderr",
     "output_type": "stream",
     "text": [
      "\n"
     ]
    },
    {
     "name": "stdout",
     "output_type": "stream",
     "text": [
      "\n",
      "      Epoch    GPU_mem       loss  Instances       Size\n"
     ]
    },
    {
     "name": "stderr",
     "output_type": "stream",
     "text": [
      "     69/200      1.79G     0.7057          6        512: 100%|██████████| 320/320 [00:19<00:00, 16.16it/s]\n",
      "               classes   top1_acc   top5_acc: 100%|██████████| 41/41 [00:03<00:00, 12.19it/s]"
     ]
    },
    {
     "name": "stdout",
     "output_type": "stream",
     "text": [
      "                   all      0.701      0.992\n"
     ]
    },
    {
     "name": "stderr",
     "output_type": "stream",
     "text": [
      "\n"
     ]
    },
    {
     "name": "stdout",
     "output_type": "stream",
     "text": [
      "\n",
      "      Epoch    GPU_mem       loss  Instances       Size\n"
     ]
    },
    {
     "name": "stderr",
     "output_type": "stream",
     "text": [
      "     70/200      1.79G      0.692          6        512: 100%|██████████| 320/320 [00:19<00:00, 16.21it/s]\n",
      "               classes   top1_acc   top5_acc: 100%|██████████| 41/41 [00:03<00:00, 11.87it/s]"
     ]
    },
    {
     "name": "stdout",
     "output_type": "stream",
     "text": [
      "                   all      0.705      0.991\n",
      "\n",
      "      Epoch    GPU_mem       loss  Instances       Size\n"
     ]
    },
    {
     "name": "stderr",
     "output_type": "stream",
     "text": [
      "\n",
      "     71/200      1.79G      0.685          6        512: 100%|██████████| 320/320 [00:19<00:00, 16.09it/s]\n",
      "               classes   top1_acc   top5_acc: 100%|██████████| 41/41 [00:03<00:00, 12.10it/s]"
     ]
    },
    {
     "name": "stdout",
     "output_type": "stream",
     "text": [
      "                   all      0.706      0.991\n"
     ]
    },
    {
     "name": "stderr",
     "output_type": "stream",
     "text": [
      "\n"
     ]
    },
    {
     "name": "stdout",
     "output_type": "stream",
     "text": [
      "\n",
      "      Epoch    GPU_mem       loss  Instances       Size\n"
     ]
    },
    {
     "name": "stderr",
     "output_type": "stream",
     "text": [
      "     72/200      1.79G     0.6846          6        512: 100%|██████████| 320/320 [00:19<00:00, 16.08it/s]\n",
      "               classes   top1_acc   top5_acc: 100%|██████████| 41/41 [00:03<00:00, 12.13it/s]"
     ]
    },
    {
     "name": "stdout",
     "output_type": "stream",
     "text": [
      "                   all      0.711      0.995\n",
      "\n",
      "      Epoch    GPU_mem       loss  Instances       Size\n"
     ]
    },
    {
     "name": "stderr",
     "output_type": "stream",
     "text": [
      "\n",
      "     73/200      1.79G     0.6831          6        512: 100%|██████████| 320/320 [00:19<00:00, 16.23it/s]\n",
      "               classes   top1_acc   top5_acc: 100%|██████████| 41/41 [00:03<00:00, 11.79it/s]"
     ]
    },
    {
     "name": "stdout",
     "output_type": "stream",
     "text": [
      "                   all      0.718      0.995\n",
      "\n",
      "      Epoch    GPU_mem       loss  Instances       Size\n"
     ]
    },
    {
     "name": "stderr",
     "output_type": "stream",
     "text": [
      "\n",
      "     74/200      1.79G     0.6683          6        512: 100%|██████████| 320/320 [00:20<00:00, 15.95it/s]\n",
      "               classes   top1_acc   top5_acc: 100%|██████████| 41/41 [00:03<00:00, 12.13it/s]"
     ]
    },
    {
     "name": "stdout",
     "output_type": "stream",
     "text": [
      "                   all       0.72      0.993\n"
     ]
    },
    {
     "name": "stderr",
     "output_type": "stream",
     "text": [
      "\n"
     ]
    },
    {
     "name": "stdout",
     "output_type": "stream",
     "text": [
      "\n",
      "      Epoch    GPU_mem       loss  Instances       Size\n"
     ]
    },
    {
     "name": "stderr",
     "output_type": "stream",
     "text": [
      "     75/200      1.79G     0.6727          6        512: 100%|██████████| 320/320 [00:19<00:00, 16.15it/s]\n",
      "               classes   top1_acc   top5_acc: 100%|██████████| 41/41 [00:03<00:00, 11.93it/s]"
     ]
    },
    {
     "name": "stdout",
     "output_type": "stream",
     "text": [
      "                   all      0.715      0.989\n"
     ]
    },
    {
     "name": "stderr",
     "output_type": "stream",
     "text": [
      "\n"
     ]
    },
    {
     "name": "stdout",
     "output_type": "stream",
     "text": [
      "\n",
      "      Epoch    GPU_mem       loss  Instances       Size\n"
     ]
    },
    {
     "name": "stderr",
     "output_type": "stream",
     "text": [
      "     76/200      1.79G     0.6664          6        512: 100%|██████████| 320/320 [00:19<00:00, 16.26it/s]\n",
      "               classes   top1_acc   top5_acc: 100%|██████████| 41/41 [00:03<00:00, 11.93it/s]"
     ]
    },
    {
     "name": "stdout",
     "output_type": "stream",
     "text": [
      "                   all       0.71      0.991\n"
     ]
    },
    {
     "name": "stderr",
     "output_type": "stream",
     "text": [
      "\n"
     ]
    },
    {
     "name": "stdout",
     "output_type": "stream",
     "text": [
      "\n",
      "      Epoch    GPU_mem       loss  Instances       Size\n"
     ]
    },
    {
     "name": "stderr",
     "output_type": "stream",
     "text": [
      "     77/200      1.79G     0.6679          6        512: 100%|██████████| 320/320 [00:19<00:00, 16.23it/s]\n",
      "               classes   top1_acc   top5_acc: 100%|██████████| 41/41 [00:03<00:00, 11.58it/s]"
     ]
    },
    {
     "name": "stdout",
     "output_type": "stream",
     "text": [
      "                   all      0.711      0.991\n"
     ]
    },
    {
     "name": "stderr",
     "output_type": "stream",
     "text": [
      "\n"
     ]
    },
    {
     "name": "stdout",
     "output_type": "stream",
     "text": [
      "\n",
      "      Epoch    GPU_mem       loss  Instances       Size\n"
     ]
    },
    {
     "name": "stderr",
     "output_type": "stream",
     "text": [
      "     78/200      1.79G     0.6606          6        512: 100%|██████████| 320/320 [00:19<00:00, 16.09it/s]\n",
      "               classes   top1_acc   top5_acc: 100%|██████████| 41/41 [00:03<00:00, 11.73it/s]"
     ]
    },
    {
     "name": "stdout",
     "output_type": "stream",
     "text": [
      "                   all      0.715      0.993\n"
     ]
    },
    {
     "name": "stderr",
     "output_type": "stream",
     "text": [
      "\n"
     ]
    },
    {
     "name": "stdout",
     "output_type": "stream",
     "text": [
      "\n",
      "      Epoch    GPU_mem       loss  Instances       Size\n"
     ]
    },
    {
     "name": "stderr",
     "output_type": "stream",
     "text": [
      "     79/200      1.79G     0.6591          6        512: 100%|██████████| 320/320 [00:19<00:00, 16.08it/s]\n",
      "               classes   top1_acc   top5_acc: 100%|██████████| 41/41 [00:03<00:00, 12.23it/s]"
     ]
    },
    {
     "name": "stdout",
     "output_type": "stream",
     "text": [
      "                   all      0.707      0.995\n"
     ]
    },
    {
     "name": "stderr",
     "output_type": "stream",
     "text": [
      "\n"
     ]
    },
    {
     "name": "stdout",
     "output_type": "stream",
     "text": [
      "\n",
      "      Epoch    GPU_mem       loss  Instances       Size\n"
     ]
    },
    {
     "name": "stderr",
     "output_type": "stream",
     "text": [
      "     80/200      1.79G     0.6491          6        512: 100%|██████████| 320/320 [00:19<00:00, 16.18it/s]\n",
      "               classes   top1_acc   top5_acc: 100%|██████████| 41/41 [00:03<00:00, 11.78it/s]"
     ]
    },
    {
     "name": "stdout",
     "output_type": "stream",
     "text": [
      "                   all      0.715      0.991\n"
     ]
    },
    {
     "name": "stderr",
     "output_type": "stream",
     "text": [
      "\n"
     ]
    },
    {
     "name": "stdout",
     "output_type": "stream",
     "text": [
      "\n",
      "      Epoch    GPU_mem       loss  Instances       Size\n"
     ]
    },
    {
     "name": "stderr",
     "output_type": "stream",
     "text": [
      "     81/200      1.79G     0.6652          6        512: 100%|██████████| 320/320 [00:19<00:00, 16.05it/s]\n",
      "               classes   top1_acc   top5_acc: 100%|██████████| 41/41 [00:03<00:00, 12.36it/s]"
     ]
    },
    {
     "name": "stdout",
     "output_type": "stream",
     "text": [
      "                   all      0.722      0.992\n"
     ]
    },
    {
     "name": "stderr",
     "output_type": "stream",
     "text": [
      "\n"
     ]
    },
    {
     "name": "stdout",
     "output_type": "stream",
     "text": [
      "\n",
      "      Epoch    GPU_mem       loss  Instances       Size\n"
     ]
    },
    {
     "name": "stderr",
     "output_type": "stream",
     "text": [
      "     82/200      1.79G      0.645          6        512: 100%|██████████| 320/320 [00:19<00:00, 16.35it/s]\n",
      "               classes   top1_acc   top5_acc: 100%|██████████| 41/41 [00:03<00:00, 11.79it/s]"
     ]
    },
    {
     "name": "stdout",
     "output_type": "stream",
     "text": [
      "                   all      0.717      0.993\n"
     ]
    },
    {
     "name": "stderr",
     "output_type": "stream",
     "text": [
      "\n"
     ]
    },
    {
     "name": "stdout",
     "output_type": "stream",
     "text": [
      "\n",
      "      Epoch    GPU_mem       loss  Instances       Size\n"
     ]
    },
    {
     "name": "stderr",
     "output_type": "stream",
     "text": [
      "     83/200      1.79G     0.6625          6        512: 100%|██████████| 320/320 [00:19<00:00, 16.06it/s]\n",
      "               classes   top1_acc   top5_acc: 100%|██████████| 41/41 [00:03<00:00, 12.03it/s]"
     ]
    },
    {
     "name": "stdout",
     "output_type": "stream",
     "text": [
      "                   all      0.718      0.994\n"
     ]
    },
    {
     "name": "stderr",
     "output_type": "stream",
     "text": [
      "\n"
     ]
    },
    {
     "name": "stdout",
     "output_type": "stream",
     "text": [
      "\n",
      "      Epoch    GPU_mem       loss  Instances       Size\n"
     ]
    },
    {
     "name": "stderr",
     "output_type": "stream",
     "text": [
      "     84/200      1.79G     0.6339          6        512: 100%|██████████| 320/320 [00:19<00:00, 16.17it/s]\n",
      "               classes   top1_acc   top5_acc: 100%|██████████| 41/41 [00:03<00:00, 12.00it/s]"
     ]
    },
    {
     "name": "stdout",
     "output_type": "stream",
     "text": [
      "                   all      0.727      0.994\n",
      "\n",
      "      Epoch    GPU_mem       loss  Instances       Size\n"
     ]
    },
    {
     "name": "stderr",
     "output_type": "stream",
     "text": [
      "\n",
      "     85/200      1.79G     0.6392          6        512: 100%|██████████| 320/320 [00:19<00:00, 16.25it/s]\n",
      "               classes   top1_acc   top5_acc: 100%|██████████| 41/41 [00:03<00:00, 11.65it/s]"
     ]
    },
    {
     "name": "stdout",
     "output_type": "stream",
     "text": [
      "                   all      0.727      0.993\n"
     ]
    },
    {
     "name": "stderr",
     "output_type": "stream",
     "text": [
      "\n"
     ]
    },
    {
     "name": "stdout",
     "output_type": "stream",
     "text": [
      "\n",
      "      Epoch    GPU_mem       loss  Instances       Size\n"
     ]
    },
    {
     "name": "stderr",
     "output_type": "stream",
     "text": [
      "     86/200      1.79G     0.6202          6        512: 100%|██████████| 320/320 [00:19<00:00, 16.21it/s]\n",
      "               classes   top1_acc   top5_acc: 100%|██████████| 41/41 [00:03<00:00, 11.76it/s]"
     ]
    },
    {
     "name": "stdout",
     "output_type": "stream",
     "text": [
      "                   all      0.722      0.991\n",
      "\n",
      "      Epoch    GPU_mem       loss  Instances       Size\n"
     ]
    },
    {
     "name": "stderr",
     "output_type": "stream",
     "text": [
      "\n",
      "     87/200      1.79G     0.6259          6        512: 100%|██████████| 320/320 [00:19<00:00, 16.14it/s]\n",
      "               classes   top1_acc   top5_acc: 100%|██████████| 41/41 [00:03<00:00, 12.18it/s]"
     ]
    },
    {
     "name": "stdout",
     "output_type": "stream",
     "text": [
      "                   all      0.707      0.989\n"
     ]
    },
    {
     "name": "stderr",
     "output_type": "stream",
     "text": [
      "\n"
     ]
    },
    {
     "name": "stdout",
     "output_type": "stream",
     "text": [
      "\n",
      "      Epoch    GPU_mem       loss  Instances       Size\n"
     ]
    },
    {
     "name": "stderr",
     "output_type": "stream",
     "text": [
      "     88/200      1.79G      0.619          6        512: 100%|██████████| 320/320 [00:19<00:00, 16.07it/s]\n",
      "               classes   top1_acc   top5_acc: 100%|██████████| 41/41 [00:03<00:00, 12.09it/s]"
     ]
    },
    {
     "name": "stdout",
     "output_type": "stream",
     "text": [
      "                   all      0.703      0.992\n",
      "\n",
      "      Epoch    GPU_mem       loss  Instances       Size\n"
     ]
    },
    {
     "name": "stderr",
     "output_type": "stream",
     "text": [
      "\n",
      "     89/200      1.79G     0.6213          6        512: 100%|██████████| 320/320 [00:19<00:00, 16.17it/s]\n",
      "               classes   top1_acc   top5_acc: 100%|██████████| 41/41 [00:03<00:00, 12.02it/s]"
     ]
    },
    {
     "name": "stdout",
     "output_type": "stream",
     "text": [
      "                   all      0.707      0.991\n"
     ]
    },
    {
     "name": "stderr",
     "output_type": "stream",
     "text": [
      "\n"
     ]
    },
    {
     "name": "stdout",
     "output_type": "stream",
     "text": [
      "\n",
      "      Epoch    GPU_mem       loss  Instances       Size\n"
     ]
    },
    {
     "name": "stderr",
     "output_type": "stream",
     "text": [
      "     90/200      1.79G     0.5977          6        512: 100%|██████████| 320/320 [00:19<00:00, 16.35it/s]\n",
      "               classes   top1_acc   top5_acc: 100%|██████████| 41/41 [00:03<00:00, 11.56it/s]"
     ]
    },
    {
     "name": "stdout",
     "output_type": "stream",
     "text": [
      "                   all        0.7       0.99\n"
     ]
    },
    {
     "name": "stderr",
     "output_type": "stream",
     "text": [
      "\n"
     ]
    },
    {
     "name": "stdout",
     "output_type": "stream",
     "text": [
      "\n",
      "      Epoch    GPU_mem       loss  Instances       Size\n"
     ]
    },
    {
     "name": "stderr",
     "output_type": "stream",
     "text": [
      "     91/200      1.79G     0.6095          6        512: 100%|██████████| 320/320 [00:19<00:00, 16.16it/s]\n",
      "               classes   top1_acc   top5_acc: 100%|██████████| 41/41 [00:03<00:00, 11.98it/s]"
     ]
    },
    {
     "name": "stdout",
     "output_type": "stream",
     "text": [
      "                   all      0.706      0.991\n"
     ]
    },
    {
     "name": "stderr",
     "output_type": "stream",
     "text": [
      "\n"
     ]
    },
    {
     "name": "stdout",
     "output_type": "stream",
     "text": [
      "\n",
      "      Epoch    GPU_mem       loss  Instances       Size\n"
     ]
    },
    {
     "name": "stderr",
     "output_type": "stream",
     "text": [
      "     92/200      1.79G     0.6205          6        512: 100%|██████████| 320/320 [00:19<00:00, 16.14it/s]\n",
      "               classes   top1_acc   top5_acc: 100%|██████████| 41/41 [00:03<00:00, 11.87it/s]"
     ]
    },
    {
     "name": "stdout",
     "output_type": "stream",
     "text": [
      "                   all      0.712       0.99\n"
     ]
    },
    {
     "name": "stderr",
     "output_type": "stream",
     "text": [
      "\n"
     ]
    },
    {
     "name": "stdout",
     "output_type": "stream",
     "text": [
      "\n",
      "      Epoch    GPU_mem       loss  Instances       Size\n"
     ]
    },
    {
     "name": "stderr",
     "output_type": "stream",
     "text": [
      "     93/200      1.79G     0.6154          6        512: 100%|██████████| 320/320 [00:19<00:00, 16.16it/s]\n",
      "               classes   top1_acc   top5_acc: 100%|██████████| 41/41 [00:03<00:00, 11.75it/s]"
     ]
    },
    {
     "name": "stdout",
     "output_type": "stream",
     "text": [
      "                   all      0.715      0.991\n"
     ]
    },
    {
     "name": "stderr",
     "output_type": "stream",
     "text": [
      "\n"
     ]
    },
    {
     "name": "stdout",
     "output_type": "stream",
     "text": [
      "\n",
      "      Epoch    GPU_mem       loss  Instances       Size\n"
     ]
    },
    {
     "name": "stderr",
     "output_type": "stream",
     "text": [
      "     94/200      1.79G     0.5946          6        512: 100%|██████████| 320/320 [00:19<00:00, 16.15it/s]\n",
      "               classes   top1_acc   top5_acc: 100%|██████████| 41/41 [00:03<00:00, 11.82it/s]"
     ]
    },
    {
     "name": "stdout",
     "output_type": "stream",
     "text": [
      "                   all      0.708      0.992\n"
     ]
    },
    {
     "name": "stderr",
     "output_type": "stream",
     "text": [
      "\n"
     ]
    },
    {
     "name": "stdout",
     "output_type": "stream",
     "text": [
      "\n",
      "      Epoch    GPU_mem       loss  Instances       Size\n"
     ]
    },
    {
     "name": "stderr",
     "output_type": "stream",
     "text": [
      "     95/200      1.79G     0.5939          6        512: 100%|██████████| 320/320 [00:19<00:00, 16.29it/s]\n",
      "               classes   top1_acc   top5_acc: 100%|██████████| 41/41 [00:03<00:00, 11.85it/s]"
     ]
    },
    {
     "name": "stdout",
     "output_type": "stream",
     "text": [
      "                   all        0.7      0.995\n",
      "\n",
      "      Epoch    GPU_mem       loss  Instances       Size\n"
     ]
    },
    {
     "name": "stderr",
     "output_type": "stream",
     "text": [
      "\n",
      "     96/200      1.79G     0.5853          6        512: 100%|██████████| 320/320 [00:19<00:00, 16.11it/s]\n",
      "               classes   top1_acc   top5_acc: 100%|██████████| 41/41 [00:03<00:00, 11.87it/s]"
     ]
    },
    {
     "name": "stdout",
     "output_type": "stream",
     "text": [
      "                   all      0.706      0.993\n"
     ]
    },
    {
     "name": "stderr",
     "output_type": "stream",
     "text": [
      "\n"
     ]
    },
    {
     "name": "stdout",
     "output_type": "stream",
     "text": [
      "\n",
      "      Epoch    GPU_mem       loss  Instances       Size\n"
     ]
    },
    {
     "name": "stderr",
     "output_type": "stream",
     "text": [
      "     97/200      1.79G     0.5734          6        512: 100%|██████████| 320/320 [00:19<00:00, 16.27it/s]\n",
      "               classes   top1_acc   top5_acc: 100%|██████████| 41/41 [00:03<00:00, 11.58it/s]"
     ]
    },
    {
     "name": "stdout",
     "output_type": "stream",
     "text": [
      "                   all      0.716      0.991\n"
     ]
    },
    {
     "name": "stderr",
     "output_type": "stream",
     "text": [
      "\n"
     ]
    },
    {
     "name": "stdout",
     "output_type": "stream",
     "text": [
      "\n",
      "      Epoch    GPU_mem       loss  Instances       Size\n"
     ]
    },
    {
     "name": "stderr",
     "output_type": "stream",
     "text": [
      "     98/200      1.79G     0.5874          6        512: 100%|██████████| 320/320 [00:19<00:00, 16.13it/s]\n",
      "               classes   top1_acc   top5_acc: 100%|██████████| 41/41 [00:03<00:00, 11.88it/s]"
     ]
    },
    {
     "name": "stdout",
     "output_type": "stream",
     "text": [
      "                   all      0.704      0.994\n"
     ]
    },
    {
     "name": "stderr",
     "output_type": "stream",
     "text": [
      "\n"
     ]
    },
    {
     "name": "stdout",
     "output_type": "stream",
     "text": [
      "\n",
      "      Epoch    GPU_mem       loss  Instances       Size\n"
     ]
    },
    {
     "name": "stderr",
     "output_type": "stream",
     "text": [
      "     99/200      1.79G      0.564          6        512: 100%|██████████| 320/320 [00:19<00:00, 16.20it/s]\n",
      "               classes   top1_acc   top5_acc: 100%|██████████| 41/41 [00:03<00:00, 11.36it/s]"
     ]
    },
    {
     "name": "stdout",
     "output_type": "stream",
     "text": [
      "                   all      0.709      0.994\n"
     ]
    },
    {
     "name": "stderr",
     "output_type": "stream",
     "text": [
      "\n"
     ]
    },
    {
     "name": "stdout",
     "output_type": "stream",
     "text": [
      "\n",
      "      Epoch    GPU_mem       loss  Instances       Size\n"
     ]
    },
    {
     "name": "stderr",
     "output_type": "stream",
     "text": [
      "    100/200      1.79G      0.562          6        512: 100%|██████████| 320/320 [00:19<00:00, 16.22it/s]\n",
      "               classes   top1_acc   top5_acc: 100%|██████████| 41/41 [00:03<00:00, 11.67it/s]"
     ]
    },
    {
     "name": "stdout",
     "output_type": "stream",
     "text": [
      "                   all      0.708      0.994\n"
     ]
    },
    {
     "name": "stderr",
     "output_type": "stream",
     "text": [
      "\n"
     ]
    },
    {
     "name": "stdout",
     "output_type": "stream",
     "text": [
      "\n",
      "      Epoch    GPU_mem       loss  Instances       Size\n"
     ]
    },
    {
     "name": "stderr",
     "output_type": "stream",
     "text": [
      "    101/200      1.79G     0.5551          6        512: 100%|██████████| 320/320 [00:19<00:00, 16.20it/s]\n",
      "               classes   top1_acc   top5_acc: 100%|██████████| 41/41 [00:03<00:00, 11.75it/s]"
     ]
    },
    {
     "name": "stdout",
     "output_type": "stream",
     "text": [
      "                   all      0.707      0.995\n"
     ]
    },
    {
     "name": "stderr",
     "output_type": "stream",
     "text": [
      "\n"
     ]
    },
    {
     "name": "stdout",
     "output_type": "stream",
     "text": [
      "\n",
      "      Epoch    GPU_mem       loss  Instances       Size\n"
     ]
    },
    {
     "name": "stderr",
     "output_type": "stream",
     "text": [
      "    102/200      1.79G     0.5675          6        512: 100%|██████████| 320/320 [00:20<00:00, 15.98it/s]\n",
      "               classes   top1_acc   top5_acc: 100%|██████████| 41/41 [00:03<00:00, 12.51it/s]"
     ]
    },
    {
     "name": "stdout",
     "output_type": "stream",
     "text": [
      "                   all      0.705      0.995\n"
     ]
    },
    {
     "name": "stderr",
     "output_type": "stream",
     "text": [
      "\n"
     ]
    },
    {
     "name": "stdout",
     "output_type": "stream",
     "text": [
      "\n",
      "      Epoch    GPU_mem       loss  Instances       Size\n"
     ]
    },
    {
     "name": "stderr",
     "output_type": "stream",
     "text": [
      "    103/200      1.79G     0.5264          6        512: 100%|██████████| 320/320 [00:19<00:00, 16.18it/s]\n",
      "               classes   top1_acc   top5_acc: 100%|██████████| 41/41 [00:03<00:00, 11.92it/s]"
     ]
    },
    {
     "name": "stdout",
     "output_type": "stream",
     "text": [
      "                   all      0.705      0.992\n",
      "\n",
      "      Epoch    GPU_mem       loss  Instances       Size\n"
     ]
    },
    {
     "name": "stderr",
     "output_type": "stream",
     "text": [
      "\n",
      "    104/200      1.79G     0.5375          6        512: 100%|██████████| 320/320 [00:19<00:00, 16.15it/s]\n",
      "               classes   top1_acc   top5_acc: 100%|██████████| 41/41 [00:03<00:00, 11.95it/s]"
     ]
    },
    {
     "name": "stdout",
     "output_type": "stream",
     "text": [
      "                   all      0.699      0.991\n",
      "\u001b[34m\u001b[1mEarlyStopping: \u001b[0mTraining stopped early as no improvement observed in last 20 epochs. Best results observed at epoch 84, best model saved as best.pt.\n",
      "To update EarlyStopping(patience=20) pass a new patience value, i.e. `patience=300` or use `patience=0` to disable EarlyStopping.\n"
     ]
    },
    {
     "name": "stderr",
     "output_type": "stream",
     "text": [
      "\n"
     ]
    },
    {
     "name": "stdout",
     "output_type": "stream",
     "text": [
      "\n",
      "104 epochs completed in 0.677 hours.\n",
      "Optimizer stripped from runs\\classify\\train53\\weights\\last.pt, 3.0MB\n",
      "Optimizer stripped from runs\\classify\\train53\\weights\\best.pt, 3.0MB\n",
      "\n",
      "Validating runs\\classify\\train53\\weights\\best.pt...\n",
      "Ultralytics 8.3.93  Python-3.9.21 torch-2.0.1+cu118 CUDA:0 (NVIDIA GeForce RTX 4050 Laptop GPU, 6140MiB)\n",
      "YOLOv8n-cls summary (fused): 30 layers, 1,445,128 parameters, 0 gradients, 3.3 GFLOPs\n",
      "\u001b[34m\u001b[1mtrain:\u001b[0m C:\\Users\\\\Desktop\\ultralytics-main\\datasets\\eyes_split\\train... found 5110 images in 8 classes  \n",
      "\u001b[34m\u001b[1mval:\u001b[0m C:\\Users\\\\Desktop\\ultralytics-main\\datasets\\eyes_split\\val... found 1282 images in 8 classes  \n",
      "\u001b[34m\u001b[1mtest:\u001b[0m None...\n"
     ]
    },
    {
     "name": "stderr",
     "output_type": "stream",
     "text": [
      "               classes   top1_acc   top5_acc: 100%|██████████| 41/41 [00:03<00:00, 12.38it/s]\n"
     ]
    },
    {
     "name": "stdout",
     "output_type": "stream",
     "text": [
      "                   all      0.726      0.994\n",
      "Speed: 0.3ms preprocess, 0.6ms inference, 0.0ms loss, 0.0ms postprocess per image\n",
      "Results saved to \u001b[1mruns\\classify\\train53\u001b[0m\n",
      "Ultralytics 8.3.93  Python-3.9.21 torch-2.0.1+cu118 CUDA:0 (NVIDIA GeForce RTX 4050 Laptop GPU, 6140MiB)\n",
      "YOLOv8n-cls summary (fused): 30 layers, 1,445,128 parameters, 0 gradients, 3.3 GFLOPs\n",
      "\u001b[34m\u001b[1mtrain:\u001b[0m C:\\Users\\\\Desktop\\ultralytics-main\\datasets\\eyes_split\\train... found 5110 images in 8 classes  \n",
      "\u001b[34m\u001b[1mval:\u001b[0m C:\\Users\\\\Desktop\\ultralytics-main\\datasets\\eyes_split\\val... found 1282 images in 8 classes  \n",
      "\u001b[34m\u001b[1mtest:\u001b[0m None...\n"
     ]
    },
    {
     "name": "stderr",
     "output_type": "stream",
     "text": [
      "\u001b[34m\u001b[1mval: \u001b[0mScanning C:\\Users\\宋德祥\\Desktop\\ultralytics-main\\datasets\\eyes_split\\val... 1282 images, 0 corrupt: 100%|████████\u001b[0m\n",
      "               classes   top1_acc   top5_acc: 100%|██████████| 81/81 [00:04<00:00, 18.79it/s]\n"
     ]
    },
    {
     "name": "stdout",
     "output_type": "stream",
     "text": [
      "                   all      0.727      0.994\n",
      "Speed: 0.3ms preprocess, 1.2ms inference, 0.0ms loss, 0.0ms postprocess per image\n",
      "Results saved to \u001b[1mruns\\classify\\train532\u001b[0m\n",
      "Validation metrics: ultralytics.utils.metrics.ClassifyMetrics object with attributes:\n",
      "\n",
      "confusion_matrix: <ultralytics.utils.metrics.ConfusionMatrix object at 0x00000178F35E3AC0>\n",
      "curves: []\n",
      "curves_results: []\n",
      "fitness: 0.8603744208812714\n",
      "keys: ['metrics/accuracy_top1', 'metrics/accuracy_top5']\n",
      "results_dict: {'metrics/accuracy_top1': 0.7269890904426575, 'metrics/accuracy_top5': 0.9937597513198853, 'fitness': 0.8603744208812714}\n",
      "save_dir: WindowsPath('runs/classify/train532')\n",
      "speed: {'preprocess': 0.3159797972029325, 'inference': 1.1795634945486364, 'loss': 0.000951092029672353, 'postprocess': 0.0025468018687486013}\n",
      "task: 'classify'\n",
      "top1: 0.7269890904426575\n",
      "top5: 0.9937597513198853\n",
      "Ultralytics 8.3.93  Python-3.9.21 torch-2.0.1+cu118 CPU (AMD Ryzen 7 7840H w/ Radeon 780M Graphics)\n",
      "\n",
      "\u001b[34m\u001b[1mPyTorch:\u001b[0m starting from 'runs\\classify\\train53\\weights\\best.pt' with input shape (1, 3, 512, 512) BCHW and output shape(s) (1, 8) (2.8 MB)\n",
      "\n",
      "\u001b[34m\u001b[1mONNX:\u001b[0m starting export with onnx 1.17.0 opset 17...\n",
      "============= Diagnostic Run torch.onnx.export version 2.0.1+cu118 =============\n",
      "verbose: False, log level: Level.ERROR\n",
      "======================= 0 NONE 0 NOTE 0 WARNING 0 ERROR ========================\n",
      "\n",
      "\u001b[34m\u001b[1mONNX:\u001b[0m slimming with onnxslim 0.1.31...\n",
      "\u001b[34m\u001b[1mONNX:\u001b[0m export success  0.8s, saved as 'runs\\classify\\train53\\weights\\best.onnx' (5.5 MB)\n",
      "\n",
      "Export complete (0.9s)\n",
      "Results saved to \u001b[1mC:\\Users\\\\Desktop\\ultralytics-main\\runs\\classify\\train53\\weights\u001b[0m\n",
      "Predict:         yolo predict task=classify model=runs\\classify\\train53\\weights\\best.onnx imgsz=512  \n",
      "Validate:        yolo val task=classify model=runs\\classify\\train53\\weights\\best.onnx imgsz=512 data=eyes_split  \n",
      "Visualize:       https://netron.app\n"
     ]
    },
    {
     "data": {
      "text/plain": [
       "'runs\\\\classify\\\\train53\\\\weights\\\\best.onnx'"
      ]
     },
     "execution_count": 22,
     "metadata": {},
     "output_type": "execute_result"
    }
   ],
   "source": [
    "from ultralytics import YOLO\n",
    "\n",
    "#0.72\n",
    "\n",
    "# 1. 加载模型（选择更轻量级的模型）\n",
    "model = YOLO(\"yolov8n-cls.pt\")  # 或尝试 yolov8s-cls.pt\n",
    "\n",
    "# 2. 配置训练参数（优化后的参数）\n",
    "results = model.train(\n",
    "    data=\"eyes_split\",  # 数据集配置文件路径\n",
    "    epochs=200,         # 训练轮数\n",
    "    batch=16,           # 批次大小（如果显存不足可降低为32）\n",
    "    imgsz=512,          # 图像尺寸（保持与验证集一致）\n",
    "    lr0=0.0001,         # 初始学习率（进一步降低学习率）\n",
    "    lrf=0.001,          # 最终学习率（更小的衰减范围）\n",
    "    cos_lr=True,        # 使用余弦退火学习率调度\n",
    "    workers=8,         # 数据加载线程数\n",
    "    device=0,           # 使用 GPU 设备\n",
    "  \n",
    "    hsv_h=0.02,         # 随机调整色调（增大增强幅度）\n",
    "    hsv_s=0.8,          # 随机调整饱和度\n",
    "    hsv_v=0.5,          # 随机调整亮度\n",
    "    translate=0.2,      # 随机平移（增大平移幅度）\n",
    "    scale=0.3,          # 随机缩放（缩小缩放范围以保留更多目标特征）\n",
    "    flipud=0.5,         # 随机上下翻转\n",
    "    fliplr=0.5,         # 随机左右翻转\n",
    "    mosaic=0.5,         # 使用马赛克增强（随机拼接4张图像）\n",
    "    mixup=0.2,          # 启用MixUp混合训练（图像混合增强）\n",
    "    copy_paste=0.2,     # 启用复制粘贴增强（需Ultralytics版本支持）\n",
    "    weight_decay=0.001, # 权重衰减（L2正则化，增大正则化强度）\n",
    "    label_smoothing=0.1, # 标签平滑（减少模型对标签的过度自信）\n",
    "    dropout=0.2,        # Dropout概率（如果模型支持）\n",
    "    patience=20,        # 早停耐心值（缩短至20个epoch）\n",
    "    verbose=True,\n",
    "    amp=True,           # 启用混合精度训练\n",
    ")\n",
    "\n",
    "# 3. 验证最佳模型\n",
    "metrics = model.val()  # 确保验证集分布合理\n",
    "print(f\"Validation metrics: {metrics}\")\n",
    "\n",
    "# 4. 导出模型（可选）\n",
    "model.export(format=\"onnx\")"
   ]
  },
  {
   "cell_type": "code",
   "execution_count": 23,
   "id": "44616b1e-241f-43f9-8e0b-91b37ebf68f0",
   "metadata": {
    "scrolled": true
   },
   "outputs": [
    {
     "name": "stdout",
     "output_type": "stream",
     "text": [
      "New https://pypi.org/project/ultralytics/8.3.99 available  Update with 'pip install -U ultralytics'\n",
      "WARNING  'label_smoothing' is deprecated and will be removed in in the future.\n",
      "Ultralytics 8.3.93  Python-3.9.21 torch-2.0.1+cu118 CUDA:0 (NVIDIA GeForce RTX 4050 Laptop GPU, 6140MiB)\n",
      "\u001b[34m\u001b[1mengine\\trainer: \u001b[0mtask=classify, mode=train, model=yolov8m-cls.pt, data=eyes_split, epochs=200, time=None, patience=20, batch=16, imgsz=512, save=True, save_period=-1, cache=False, device=0, workers=8, project=None, name=train54, exist_ok=False, pretrained=True, optimizer=auto, verbose=True, seed=0, deterministic=True, single_cls=False, rect=False, cos_lr=True, close_mosaic=10, resume=False, amp=True, fraction=1.0, profile=False, freeze=None, multi_scale=False, overlap_mask=True, mask_ratio=4, dropout=0.2, val=True, split=val, save_json=False, save_hybrid=False, conf=None, iou=0.7, max_det=300, half=False, dnn=False, plots=True, source=None, vid_stride=1, stream_buffer=False, visualize=False, augment=False, agnostic_nms=False, classes=None, retina_masks=False, embed=None, show=False, save_frames=False, save_txt=False, save_conf=False, save_crop=False, show_labels=True, show_conf=True, show_boxes=True, line_width=None, format=torchscript, keras=False, optimize=False, int8=False, dynamic=False, simplify=True, opset=None, workspace=None, nms=False, lr0=0.001, lrf=0.0001, momentum=0.937, weight_decay=0.001, warmup_epochs=3.0, warmup_momentum=0.8, warmup_bias_lr=0.1, box=7.5, cls=0.5, dfl=1.5, pose=12.0, kobj=1.0, nbs=64, hsv_h=0.02, hsv_s=0.8, hsv_v=0.5, degrees=0.0, translate=0.2, scale=0.3, shear=0.0, perspective=0.0, flipud=0.5, fliplr=0.5, bgr=0.0, mosaic=0.5, mixup=0.2, copy_paste=0.2, copy_paste_mode=flip, auto_augment=randaugment, erasing=0.2, crop_fraction=1.0, cfg=None, tracker=botsort.yaml, save_dir=runs\\classify\\train54\n",
      "\u001b[34m\u001b[1mtrain:\u001b[0m C:\\Users\\\\Desktop\\ultralytics-main\\datasets\\eyes_split\\train... found 5110 images in 8 classes  \n",
      "\u001b[34m\u001b[1mval:\u001b[0m C:\\Users\\\\Desktop\\ultralytics-main\\datasets\\eyes_split\\val... found 1282 images in 8 classes  \n",
      "\u001b[34m\u001b[1mtest:\u001b[0m None...\n",
      "Overriding model.yaml nc=1000 with nc=8\n",
      "\n",
      "                   from  n    params  module                                       arguments                     \n",
      "  0                  -1  1      1392  ultralytics.nn.modules.conv.Conv             [3, 48, 3, 2]                 \n",
      "  1                  -1  1     41664  ultralytics.nn.modules.conv.Conv             [48, 96, 3, 2]                \n",
      "  2                  -1  2    111360  ultralytics.nn.modules.block.C2f             [96, 96, 2, True]             \n",
      "  3                  -1  1    166272  ultralytics.nn.modules.conv.Conv             [96, 192, 3, 2]               \n",
      "  4                  -1  4    813312  ultralytics.nn.modules.block.C2f             [192, 192, 4, True]           \n",
      "  5                  -1  1    664320  ultralytics.nn.modules.conv.Conv             [192, 384, 3, 2]              \n",
      "  6                  -1  4   3248640  ultralytics.nn.modules.block.C2f             [384, 384, 4, True]           \n",
      "  7                  -1  1   2655744  ultralytics.nn.modules.conv.Conv             [384, 768, 3, 2]              \n",
      "  8                  -1  2   7084032  ultralytics.nn.modules.block.C2f             [768, 768, 2, True]           \n",
      "  9                  -1  1    995848  ultralytics.nn.modules.head.Classify         [768, 8]                      \n",
      "YOLOv8m-cls summary: 80 layers, 15,782,584 parameters, 15,782,584 gradients, 41.9 GFLOPs\n",
      "Transferred 228/230 items from pretrained weights\n",
      "\u001b[34m\u001b[1mAMP: \u001b[0mrunning Automatic Mixed Precision (AMP) checks...\n",
      "\u001b[34m\u001b[1mAMP: \u001b[0mchecks passed \n"
     ]
    },
    {
     "name": "stderr",
     "output_type": "stream",
     "text": [
      "\u001b[34m\u001b[1mtrain: \u001b[0mScanning C:\\Users\\宋德祥\\Desktop\\ultralytics-main\\datasets\\eyes_split\\train... 5110 images, 0 corrupt: 100%|████\u001b[0m\n",
      "\u001b[34m\u001b[1mval: \u001b[0mScanning C:\\Users\\宋德祥\\Desktop\\ultralytics-main\\datasets\\eyes_split\\val... 1282 images, 0 corrupt: 100%|████████\u001b[0m\n"
     ]
    },
    {
     "name": "stdout",
     "output_type": "stream",
     "text": [
      "\u001b[34m\u001b[1moptimizer:\u001b[0m 'optimizer=auto' found, ignoring 'lr0=0.001' and 'momentum=0.937' and determining best 'optimizer', 'lr0' and 'momentum' automatically... \n",
      "\u001b[34m\u001b[1moptimizer:\u001b[0m SGD(lr=0.01, momentum=0.9) with parameter groups 38 weight(decay=0.0), 39 weight(decay=0.001), 39 bias(decay=0.0)\n",
      "Image sizes 512 train, 512 val\n",
      "Using 8 dataloader workers\n",
      "Logging results to \u001b[1mruns\\classify\\train54\u001b[0m\n",
      "Starting training for 200 epochs...\n",
      "\n",
      "      Epoch    GPU_mem       loss  Instances       Size\n"
     ]
    },
    {
     "name": "stderr",
     "output_type": "stream",
     "text": [
      "      1/200      2.66G      1.522          6        512: 100%|██████████| 320/320 [01:00<00:00,  5.29it/s]\n",
      "               classes   top1_acc   top5_acc: 100%|██████████| 41/41 [00:05<00:00,  8.10it/s]\n"
     ]
    },
    {
     "name": "stdout",
     "output_type": "stream",
     "text": [
      "                   all      0.547      0.964\n",
      "\n",
      "      Epoch    GPU_mem       loss  Instances       Size\n"
     ]
    },
    {
     "name": "stderr",
     "output_type": "stream",
     "text": [
      "      2/200      3.32G      1.237          6        512: 100%|██████████| 320/320 [00:56<00:00,  5.70it/s]\n",
      "               classes   top1_acc   top5_acc: 100%|██████████| 41/41 [00:04<00:00,  8.71it/s]"
     ]
    },
    {
     "name": "stdout",
     "output_type": "stream",
     "text": [
      "                   all      0.616      0.979\n"
     ]
    },
    {
     "name": "stderr",
     "output_type": "stream",
     "text": [
      "\n"
     ]
    },
    {
     "name": "stdout",
     "output_type": "stream",
     "text": [
      "\n",
      "      Epoch    GPU_mem       loss  Instances       Size\n"
     ]
    },
    {
     "name": "stderr",
     "output_type": "stream",
     "text": [
      "      3/200      3.32G      1.158          6        512: 100%|██████████| 320/320 [00:55<00:00,  5.79it/s]\n",
      "               classes   top1_acc   top5_acc: 100%|██████████| 41/41 [00:04<00:00,  8.54it/s]"
     ]
    },
    {
     "name": "stdout",
     "output_type": "stream",
     "text": [
      "                   all        0.6       0.98\n"
     ]
    },
    {
     "name": "stderr",
     "output_type": "stream",
     "text": [
      "\n"
     ]
    },
    {
     "name": "stdout",
     "output_type": "stream",
     "text": [
      "\n",
      "      Epoch    GPU_mem       loss  Instances       Size\n"
     ]
    },
    {
     "name": "stderr",
     "output_type": "stream",
     "text": [
      "      4/200      3.32G      1.152          6        512: 100%|██████████| 320/320 [00:54<00:00,  5.82it/s]\n",
      "               classes   top1_acc   top5_acc: 100%|██████████| 41/41 [00:04<00:00,  8.28it/s]"
     ]
    },
    {
     "name": "stdout",
     "output_type": "stream",
     "text": [
      "                   all      0.664      0.973\n"
     ]
    },
    {
     "name": "stderr",
     "output_type": "stream",
     "text": [
      "\n"
     ]
    },
    {
     "name": "stdout",
     "output_type": "stream",
     "text": [
      "\n",
      "      Epoch    GPU_mem       loss  Instances       Size\n"
     ]
    },
    {
     "name": "stderr",
     "output_type": "stream",
     "text": [
      "      5/200      3.32G      1.024          6        512: 100%|██████████| 320/320 [00:54<00:00,  5.83it/s]\n",
      "               classes   top1_acc   top5_acc: 100%|██████████| 41/41 [00:04<00:00,  8.28it/s]"
     ]
    },
    {
     "name": "stdout",
     "output_type": "stream",
     "text": [
      "                   all      0.639      0.988\n"
     ]
    },
    {
     "name": "stderr",
     "output_type": "stream",
     "text": [
      "\n"
     ]
    },
    {
     "name": "stdout",
     "output_type": "stream",
     "text": [
      "\n",
      "      Epoch    GPU_mem       loss  Instances       Size\n"
     ]
    },
    {
     "name": "stderr",
     "output_type": "stream",
     "text": [
      "      6/200      3.32G      1.009          6        512: 100%|██████████| 320/320 [00:54<00:00,  5.83it/s]\n",
      "               classes   top1_acc   top5_acc: 100%|██████████| 41/41 [00:04<00:00,  8.28it/s]"
     ]
    },
    {
     "name": "stdout",
     "output_type": "stream",
     "text": [
      "                   all      0.674      0.988\n"
     ]
    },
    {
     "name": "stderr",
     "output_type": "stream",
     "text": [
      "\n"
     ]
    },
    {
     "name": "stdout",
     "output_type": "stream",
     "text": [
      "\n",
      "      Epoch    GPU_mem       loss  Instances       Size\n"
     ]
    },
    {
     "name": "stderr",
     "output_type": "stream",
     "text": [
      "      7/200      3.32G     0.9464          6        512: 100%|██████████| 320/320 [00:54<00:00,  5.82it/s]\n",
      "               classes   top1_acc   top5_acc: 100%|██████████| 41/41 [00:04<00:00,  8.24it/s]"
     ]
    },
    {
     "name": "stdout",
     "output_type": "stream",
     "text": [
      "                   all      0.683      0.988\n"
     ]
    },
    {
     "name": "stderr",
     "output_type": "stream",
     "text": [
      "\n"
     ]
    },
    {
     "name": "stdout",
     "output_type": "stream",
     "text": [
      "\n",
      "      Epoch    GPU_mem       loss  Instances       Size\n"
     ]
    },
    {
     "name": "stderr",
     "output_type": "stream",
     "text": [
      "      8/200      3.32G        0.9          6        512: 100%|██████████| 320/320 [00:54<00:00,  5.83it/s]\n",
      "               classes   top1_acc   top5_acc: 100%|██████████| 41/41 [00:04<00:00,  8.25it/s]"
     ]
    },
    {
     "name": "stdout",
     "output_type": "stream",
     "text": [
      "                   all      0.676      0.986\n"
     ]
    },
    {
     "name": "stderr",
     "output_type": "stream",
     "text": [
      "\n"
     ]
    },
    {
     "name": "stdout",
     "output_type": "stream",
     "text": [
      "\n",
      "      Epoch    GPU_mem       loss  Instances       Size\n"
     ]
    },
    {
     "name": "stderr",
     "output_type": "stream",
     "text": [
      "      9/200      3.32G     0.9045          6        512: 100%|██████████| 320/320 [00:55<00:00,  5.80it/s]\n",
      "               classes   top1_acc   top5_acc: 100%|██████████| 41/41 [00:04<00:00,  8.26it/s]"
     ]
    },
    {
     "name": "stdout",
     "output_type": "stream",
     "text": [
      "                   all      0.673      0.992\n"
     ]
    },
    {
     "name": "stderr",
     "output_type": "stream",
     "text": [
      "\n"
     ]
    },
    {
     "name": "stdout",
     "output_type": "stream",
     "text": [
      "\n",
      "      Epoch    GPU_mem       loss  Instances       Size\n"
     ]
    },
    {
     "name": "stderr",
     "output_type": "stream",
     "text": [
      "     10/200      3.32G     0.8759          6        512: 100%|██████████| 320/320 [00:55<00:00,  5.79it/s]\n",
      "               classes   top1_acc   top5_acc: 100%|██████████| 41/41 [00:04<00:00,  8.23it/s]"
     ]
    },
    {
     "name": "stdout",
     "output_type": "stream",
     "text": [
      "                   all      0.689       0.99\n"
     ]
    },
    {
     "name": "stderr",
     "output_type": "stream",
     "text": [
      "\n"
     ]
    },
    {
     "name": "stdout",
     "output_type": "stream",
     "text": [
      "\n",
      "      Epoch    GPU_mem       loss  Instances       Size\n"
     ]
    },
    {
     "name": "stderr",
     "output_type": "stream",
     "text": [
      "     11/200      3.32G     0.8443          6        512: 100%|██████████| 320/320 [00:55<00:00,  5.79it/s]\n",
      "               classes   top1_acc   top5_acc: 100%|██████████| 41/41 [00:04<00:00,  8.24it/s]"
     ]
    },
    {
     "name": "stdout",
     "output_type": "stream",
     "text": [
      "                   all      0.688      0.991\n"
     ]
    },
    {
     "name": "stderr",
     "output_type": "stream",
     "text": [
      "\n"
     ]
    },
    {
     "name": "stdout",
     "output_type": "stream",
     "text": [
      "\n",
      "      Epoch    GPU_mem       loss  Instances       Size\n"
     ]
    },
    {
     "name": "stderr",
     "output_type": "stream",
     "text": [
      "     12/200      3.32G     0.8434          6        512: 100%|██████████| 320/320 [00:55<00:00,  5.81it/s]\n",
      "               classes   top1_acc   top5_acc: 100%|██████████| 41/41 [00:04<00:00,  8.26it/s]"
     ]
    },
    {
     "name": "stdout",
     "output_type": "stream",
     "text": [
      "                   all      0.699      0.988\n"
     ]
    },
    {
     "name": "stderr",
     "output_type": "stream",
     "text": [
      "\n"
     ]
    },
    {
     "name": "stdout",
     "output_type": "stream",
     "text": [
      "\n",
      "      Epoch    GPU_mem       loss  Instances       Size\n"
     ]
    },
    {
     "name": "stderr",
     "output_type": "stream",
     "text": [
      "     13/200      3.32G     0.8108          6        512: 100%|██████████| 320/320 [00:55<00:00,  5.78it/s]\n",
      "               classes   top1_acc   top5_acc: 100%|██████████| 41/41 [00:04<00:00,  8.24it/s]"
     ]
    },
    {
     "name": "stdout",
     "output_type": "stream",
     "text": [
      "                   all      0.706      0.991\n"
     ]
    },
    {
     "name": "stderr",
     "output_type": "stream",
     "text": [
      "\n"
     ]
    },
    {
     "name": "stdout",
     "output_type": "stream",
     "text": [
      "\n",
      "      Epoch    GPU_mem       loss  Instances       Size\n"
     ]
    },
    {
     "name": "stderr",
     "output_type": "stream",
     "text": [
      "     14/200      3.32G     0.7886          6        512: 100%|██████████| 320/320 [00:55<00:00,  5.82it/s]\n",
      "               classes   top1_acc   top5_acc: 100%|██████████| 41/41 [00:04<00:00,  8.24it/s]"
     ]
    },
    {
     "name": "stdout",
     "output_type": "stream",
     "text": [
      "                   all      0.682       0.99\n"
     ]
    },
    {
     "name": "stderr",
     "output_type": "stream",
     "text": [
      "\n"
     ]
    },
    {
     "name": "stdout",
     "output_type": "stream",
     "text": [
      "\n",
      "      Epoch    GPU_mem       loss  Instances       Size\n"
     ]
    },
    {
     "name": "stderr",
     "output_type": "stream",
     "text": [
      "     15/200      3.32G      0.784          6        512: 100%|██████████| 320/320 [00:55<00:00,  5.81it/s]\n",
      "               classes   top1_acc   top5_acc: 100%|██████████| 41/41 [00:04<00:00,  8.26it/s]"
     ]
    },
    {
     "name": "stdout",
     "output_type": "stream",
     "text": [
      "                   all       0.71       0.99\n"
     ]
    },
    {
     "name": "stderr",
     "output_type": "stream",
     "text": [
      "\n"
     ]
    },
    {
     "name": "stdout",
     "output_type": "stream",
     "text": [
      "\n",
      "      Epoch    GPU_mem       loss  Instances       Size\n"
     ]
    },
    {
     "name": "stderr",
     "output_type": "stream",
     "text": [
      "     16/200      3.32G     0.7738          6        512: 100%|██████████| 320/320 [00:54<00:00,  5.82it/s]\n",
      "               classes   top1_acc   top5_acc: 100%|██████████| 41/41 [00:04<00:00,  8.25it/s]"
     ]
    },
    {
     "name": "stdout",
     "output_type": "stream",
     "text": [
      "                   all       0.69      0.987\n"
     ]
    },
    {
     "name": "stderr",
     "output_type": "stream",
     "text": [
      "\n"
     ]
    },
    {
     "name": "stdout",
     "output_type": "stream",
     "text": [
      "\n",
      "      Epoch    GPU_mem       loss  Instances       Size\n"
     ]
    },
    {
     "name": "stderr",
     "output_type": "stream",
     "text": [
      "     17/200      3.32G     0.7664          6        512: 100%|██████████| 320/320 [00:54<00:00,  5.83it/s]\n",
      "               classes   top1_acc   top5_acc: 100%|██████████| 41/41 [00:04<00:00,  8.27it/s]"
     ]
    },
    {
     "name": "stdout",
     "output_type": "stream",
     "text": [
      "                   all      0.718      0.991\n"
     ]
    },
    {
     "name": "stderr",
     "output_type": "stream",
     "text": [
      "\n"
     ]
    },
    {
     "name": "stdout",
     "output_type": "stream",
     "text": [
      "\n",
      "      Epoch    GPU_mem       loss  Instances       Size\n"
     ]
    },
    {
     "name": "stderr",
     "output_type": "stream",
     "text": [
      "     18/200      3.32G     0.7224          6        512: 100%|██████████| 320/320 [00:55<00:00,  5.82it/s]\n",
      "               classes   top1_acc   top5_acc: 100%|██████████| 41/41 [00:04<00:00,  8.25it/s]"
     ]
    },
    {
     "name": "stdout",
     "output_type": "stream",
     "text": [
      "                   all      0.697       0.99\n"
     ]
    },
    {
     "name": "stderr",
     "output_type": "stream",
     "text": [
      "\n"
     ]
    },
    {
     "name": "stdout",
     "output_type": "stream",
     "text": [
      "\n",
      "      Epoch    GPU_mem       loss  Instances       Size\n"
     ]
    },
    {
     "name": "stderr",
     "output_type": "stream",
     "text": [
      "     19/200      3.32G      0.717          6        512: 100%|██████████| 320/320 [00:55<00:00,  5.82it/s]\n",
      "               classes   top1_acc   top5_acc: 100%|██████████| 41/41 [00:04<00:00,  8.29it/s]"
     ]
    },
    {
     "name": "stdout",
     "output_type": "stream",
     "text": [
      "                   all      0.715      0.991\n"
     ]
    },
    {
     "name": "stderr",
     "output_type": "stream",
     "text": [
      "\n"
     ]
    },
    {
     "name": "stdout",
     "output_type": "stream",
     "text": [
      "\n",
      "      Epoch    GPU_mem       loss  Instances       Size\n"
     ]
    },
    {
     "name": "stderr",
     "output_type": "stream",
     "text": [
      "     20/200      3.32G     0.7002          6        512: 100%|██████████| 320/320 [00:54<00:00,  5.82it/s]\n",
      "               classes   top1_acc   top5_acc: 100%|██████████| 41/41 [00:04<00:00,  8.25it/s]"
     ]
    },
    {
     "name": "stdout",
     "output_type": "stream",
     "text": [
      "                   all      0.693      0.989\n"
     ]
    },
    {
     "name": "stderr",
     "output_type": "stream",
     "text": [
      "\n"
     ]
    },
    {
     "name": "stdout",
     "output_type": "stream",
     "text": [
      "\n",
      "      Epoch    GPU_mem       loss  Instances       Size\n"
     ]
    },
    {
     "name": "stderr",
     "output_type": "stream",
     "text": [
      "     21/200      3.32G     0.6996          6        512: 100%|██████████| 320/320 [00:55<00:00,  5.82it/s]\n",
      "               classes   top1_acc   top5_acc: 100%|██████████| 41/41 [00:04<00:00,  8.26it/s]"
     ]
    },
    {
     "name": "stdout",
     "output_type": "stream",
     "text": [
      "                   all       0.69      0.992\n"
     ]
    },
    {
     "name": "stderr",
     "output_type": "stream",
     "text": [
      "\n"
     ]
    },
    {
     "name": "stdout",
     "output_type": "stream",
     "text": [
      "\n",
      "      Epoch    GPU_mem       loss  Instances       Size\n"
     ]
    },
    {
     "name": "stderr",
     "output_type": "stream",
     "text": [
      "     22/200      3.32G     0.6803          6        512: 100%|██████████| 320/320 [00:55<00:00,  5.81it/s]\n",
      "               classes   top1_acc   top5_acc: 100%|██████████| 41/41 [00:04<00:00,  8.21it/s]"
     ]
    },
    {
     "name": "stdout",
     "output_type": "stream",
     "text": [
      "                   all      0.708      0.994\n"
     ]
    },
    {
     "name": "stderr",
     "output_type": "stream",
     "text": [
      "\n"
     ]
    },
    {
     "name": "stdout",
     "output_type": "stream",
     "text": [
      "\n",
      "      Epoch    GPU_mem       loss  Instances       Size\n"
     ]
    },
    {
     "name": "stderr",
     "output_type": "stream",
     "text": [
      "     23/200      3.32G     0.6778          6        512: 100%|██████████| 320/320 [00:55<00:00,  5.82it/s]\n",
      "               classes   top1_acc   top5_acc: 100%|██████████| 41/41 [00:04<00:00,  8.23it/s]"
     ]
    },
    {
     "name": "stdout",
     "output_type": "stream",
     "text": [
      "                   all      0.711      0.988\n"
     ]
    },
    {
     "name": "stderr",
     "output_type": "stream",
     "text": [
      "\n"
     ]
    },
    {
     "name": "stdout",
     "output_type": "stream",
     "text": [
      "\n",
      "      Epoch    GPU_mem       loss  Instances       Size\n"
     ]
    },
    {
     "name": "stderr",
     "output_type": "stream",
     "text": [
      "     24/200      3.32G     0.6824          6        512: 100%|██████████| 320/320 [00:55<00:00,  5.82it/s]\n",
      "               classes   top1_acc   top5_acc: 100%|██████████| 41/41 [00:04<00:00,  8.25it/s]"
     ]
    },
    {
     "name": "stdout",
     "output_type": "stream",
     "text": [
      "                   all      0.686      0.988\n"
     ]
    },
    {
     "name": "stderr",
     "output_type": "stream",
     "text": [
      "\n"
     ]
    },
    {
     "name": "stdout",
     "output_type": "stream",
     "text": [
      "\n",
      "      Epoch    GPU_mem       loss  Instances       Size\n"
     ]
    },
    {
     "name": "stderr",
     "output_type": "stream",
     "text": [
      "     25/200      3.32G     0.6608          6        512: 100%|██████████| 320/320 [00:55<00:00,  5.82it/s]\n",
      "               classes   top1_acc   top5_acc: 100%|██████████| 41/41 [00:05<00:00,  8.08it/s]"
     ]
    },
    {
     "name": "stdout",
     "output_type": "stream",
     "text": [
      "                   all      0.708      0.988\n"
     ]
    },
    {
     "name": "stderr",
     "output_type": "stream",
     "text": [
      "\n"
     ]
    },
    {
     "name": "stdout",
     "output_type": "stream",
     "text": [
      "\n",
      "      Epoch    GPU_mem       loss  Instances       Size\n"
     ]
    },
    {
     "name": "stderr",
     "output_type": "stream",
     "text": [
      "     26/200      3.32G     0.6632          6        512: 100%|██████████| 320/320 [00:55<00:00,  5.76it/s]\n",
      "               classes   top1_acc   top5_acc: 100%|██████████| 41/41 [00:04<00:00,  8.26it/s]"
     ]
    },
    {
     "name": "stdout",
     "output_type": "stream",
     "text": [
      "                   all      0.706      0.988\n"
     ]
    },
    {
     "name": "stderr",
     "output_type": "stream",
     "text": [
      "\n"
     ]
    },
    {
     "name": "stdout",
     "output_type": "stream",
     "text": [
      "\n",
      "      Epoch    GPU_mem       loss  Instances       Size\n"
     ]
    },
    {
     "name": "stderr",
     "output_type": "stream",
     "text": [
      "     27/200      3.32G     0.6166          6        512: 100%|██████████| 320/320 [00:58<00:00,  5.51it/s]\n",
      "               classes   top1_acc   top5_acc: 100%|██████████| 41/41 [00:05<00:00,  7.82it/s]"
     ]
    },
    {
     "name": "stdout",
     "output_type": "stream",
     "text": [
      "                   all      0.696      0.991\n"
     ]
    },
    {
     "name": "stderr",
     "output_type": "stream",
     "text": [
      "\n"
     ]
    },
    {
     "name": "stdout",
     "output_type": "stream",
     "text": [
      "\n",
      "      Epoch    GPU_mem       loss  Instances       Size\n"
     ]
    },
    {
     "name": "stderr",
     "output_type": "stream",
     "text": [
      "     28/200      3.32G     0.6131          6        512: 100%|██████████| 320/320 [00:57<00:00,  5.57it/s]\n",
      "               classes   top1_acc   top5_acc: 100%|██████████| 41/41 [00:05<00:00,  7.99it/s]"
     ]
    },
    {
     "name": "stdout",
     "output_type": "stream",
     "text": [
      "                   all      0.702      0.991\n"
     ]
    },
    {
     "name": "stderr",
     "output_type": "stream",
     "text": [
      "\n"
     ]
    },
    {
     "name": "stdout",
     "output_type": "stream",
     "text": [
      "\n",
      "      Epoch    GPU_mem       loss  Instances       Size\n"
     ]
    },
    {
     "name": "stderr",
     "output_type": "stream",
     "text": [
      "     29/200      3.32G     0.6253          6        512: 100%|██████████| 320/320 [00:57<00:00,  5.59it/s]\n",
      "               classes   top1_acc   top5_acc: 100%|██████████| 41/41 [00:05<00:00,  8.18it/s]"
     ]
    },
    {
     "name": "stdout",
     "output_type": "stream",
     "text": [
      "                   all      0.688       0.99\n"
     ]
    },
    {
     "name": "stderr",
     "output_type": "stream",
     "text": [
      "\n"
     ]
    },
    {
     "name": "stdout",
     "output_type": "stream",
     "text": [
      "\n",
      "      Epoch    GPU_mem       loss  Instances       Size\n"
     ]
    },
    {
     "name": "stderr",
     "output_type": "stream",
     "text": [
      "     30/200      3.32G     0.6145          6        512: 100%|██████████| 320/320 [00:56<00:00,  5.67it/s]\n",
      "               classes   top1_acc   top5_acc: 100%|██████████| 41/41 [00:05<00:00,  8.18it/s]"
     ]
    },
    {
     "name": "stdout",
     "output_type": "stream",
     "text": [
      "                   all      0.713      0.991\n"
     ]
    },
    {
     "name": "stderr",
     "output_type": "stream",
     "text": [
      "\n"
     ]
    },
    {
     "name": "stdout",
     "output_type": "stream",
     "text": [
      "\n",
      "      Epoch    GPU_mem       loss  Instances       Size\n"
     ]
    },
    {
     "name": "stderr",
     "output_type": "stream",
     "text": [
      "     31/200      3.32G     0.5976          6        512: 100%|██████████| 320/320 [00:56<00:00,  5.70it/s]\n",
      "               classes   top1_acc   top5_acc: 100%|██████████| 41/41 [00:05<00:00,  8.13it/s]"
     ]
    },
    {
     "name": "stdout",
     "output_type": "stream",
     "text": [
      "                   all        0.7      0.987\n"
     ]
    },
    {
     "name": "stderr",
     "output_type": "stream",
     "text": [
      "\n"
     ]
    },
    {
     "name": "stdout",
     "output_type": "stream",
     "text": [
      "\n",
      "      Epoch    GPU_mem       loss  Instances       Size\n"
     ]
    },
    {
     "name": "stderr",
     "output_type": "stream",
     "text": [
      "     32/200      3.32G     0.5824          6        512: 100%|██████████| 320/320 [00:56<00:00,  5.67it/s]\n",
      "               classes   top1_acc   top5_acc: 100%|██████████| 41/41 [00:04<00:00,  8.36it/s]"
     ]
    },
    {
     "name": "stdout",
     "output_type": "stream",
     "text": [
      "                   all      0.702      0.993\n"
     ]
    },
    {
     "name": "stderr",
     "output_type": "stream",
     "text": [
      "\n"
     ]
    },
    {
     "name": "stdout",
     "output_type": "stream",
     "text": [
      "\n",
      "      Epoch    GPU_mem       loss  Instances       Size\n"
     ]
    },
    {
     "name": "stderr",
     "output_type": "stream",
     "text": [
      "     33/200      3.32G     0.6079          6        512: 100%|██████████| 320/320 [00:55<00:00,  5.77it/s]\n",
      "               classes   top1_acc   top5_acc: 100%|██████████| 41/41 [00:05<00:00,  8.00it/s]"
     ]
    },
    {
     "name": "stdout",
     "output_type": "stream",
     "text": [
      "                   all      0.706      0.991\n"
     ]
    },
    {
     "name": "stderr",
     "output_type": "stream",
     "text": [
      "\n"
     ]
    },
    {
     "name": "stdout",
     "output_type": "stream",
     "text": [
      "\n",
      "      Epoch    GPU_mem       loss  Instances       Size\n"
     ]
    },
    {
     "name": "stderr",
     "output_type": "stream",
     "text": [
      "     34/200      3.32G     0.5681          6        512: 100%|██████████| 320/320 [00:57<00:00,  5.58it/s]\n",
      "               classes   top1_acc   top5_acc: 100%|██████████| 41/41 [00:05<00:00,  7.90it/s]"
     ]
    },
    {
     "name": "stdout",
     "output_type": "stream",
     "text": [
      "                   all      0.706      0.994\n"
     ]
    },
    {
     "name": "stderr",
     "output_type": "stream",
     "text": [
      "\n"
     ]
    },
    {
     "name": "stdout",
     "output_type": "stream",
     "text": [
      "\n",
      "      Epoch    GPU_mem       loss  Instances       Size\n"
     ]
    },
    {
     "name": "stderr",
     "output_type": "stream",
     "text": [
      "     35/200      3.32G     0.5678          6        512: 100%|██████████| 320/320 [00:56<00:00,  5.66it/s]\n",
      "               classes   top1_acc   top5_acc: 100%|██████████| 41/41 [00:04<00:00,  8.22it/s]"
     ]
    },
    {
     "name": "stdout",
     "output_type": "stream",
     "text": [
      "                   all      0.702      0.989\n"
     ]
    },
    {
     "name": "stderr",
     "output_type": "stream",
     "text": [
      "\n"
     ]
    },
    {
     "name": "stdout",
     "output_type": "stream",
     "text": [
      "\n",
      "      Epoch    GPU_mem       loss  Instances       Size\n"
     ]
    },
    {
     "name": "stderr",
     "output_type": "stream",
     "text": [
      "     36/200      3.32G     0.5703          6        512: 100%|██████████| 320/320 [00:57<00:00,  5.60it/s]\n",
      "               classes   top1_acc   top5_acc: 100%|██████████| 41/41 [00:05<00:00,  8.05it/s]"
     ]
    },
    {
     "name": "stdout",
     "output_type": "stream",
     "text": [
      "                   all      0.711      0.993\n"
     ]
    },
    {
     "name": "stderr",
     "output_type": "stream",
     "text": [
      "\n"
     ]
    },
    {
     "name": "stdout",
     "output_type": "stream",
     "text": [
      "\n",
      "      Epoch    GPU_mem       loss  Instances       Size\n"
     ]
    },
    {
     "name": "stderr",
     "output_type": "stream",
     "text": [
      "     37/200      3.32G     0.5438          6        512: 100%|██████████| 320/320 [00:55<00:00,  5.74it/s]\n",
      "               classes   top1_acc   top5_acc: 100%|██████████| 41/41 [00:05<00:00,  8.09it/s]"
     ]
    },
    {
     "name": "stdout",
     "output_type": "stream",
     "text": [
      "                   all        0.7      0.988\n",
      "\u001b[34m\u001b[1mEarlyStopping: \u001b[0mTraining stopped early as no improvement observed in last 20 epochs. Best results observed at epoch 17, best model saved as best.pt.\n",
      "To update EarlyStopping(patience=20) pass a new patience value, i.e. `patience=300` or use `patience=0` to disable EarlyStopping.\n"
     ]
    },
    {
     "name": "stderr",
     "output_type": "stream",
     "text": [
      "\n"
     ]
    },
    {
     "name": "stdout",
     "output_type": "stream",
     "text": [
      "\n",
      "37 epochs completed in 0.629 hours.\n",
      "Optimizer stripped from runs\\classify\\train54\\weights\\last.pt, 31.7MB\n",
      "Optimizer stripped from runs\\classify\\train54\\weights\\best.pt, 31.7MB\n",
      "\n",
      "Validating runs\\classify\\train54\\weights\\best.pt...\n",
      "Ultralytics 8.3.93  Python-3.9.21 torch-2.0.1+cu118 CUDA:0 (NVIDIA GeForce RTX 4050 Laptop GPU, 6140MiB)\n",
      "YOLOv8m-cls summary (fused): 42 layers, 15,772,904 parameters, 0 gradients, 41.6 GFLOPs\n",
      "\u001b[34m\u001b[1mtrain:\u001b[0m C:\\Users\\\\Desktop\\ultralytics-main\\datasets\\eyes_split\\train... found 5110 images in 8 classes  \n",
      "\u001b[34m\u001b[1mval:\u001b[0m C:\\Users\\\\Desktop\\ultralytics-main\\datasets\\eyes_split\\val... found 1282 images in 8 classes  \n",
      "\u001b[34m\u001b[1mtest:\u001b[0m None...\n"
     ]
    },
    {
     "name": "stderr",
     "output_type": "stream",
     "text": [
      "               classes   top1_acc   top5_acc: 100%|██████████| 41/41 [00:04<00:00,  8.21it/s]\n"
     ]
    },
    {
     "name": "stdout",
     "output_type": "stream",
     "text": [
      "                   all      0.718      0.991\n",
      "Speed: 0.3ms preprocess, 3.2ms inference, 0.0ms loss, 0.0ms postprocess per image\n",
      "Results saved to \u001b[1mruns\\classify\\train54\u001b[0m\n",
      "Ultralytics 8.3.93  Python-3.9.21 torch-2.0.1+cu118 CUDA:0 (NVIDIA GeForce RTX 4050 Laptop GPU, 6140MiB)\n",
      "YOLOv8m-cls summary (fused): 42 layers, 15,772,904 parameters, 0 gradients, 41.6 GFLOPs\n",
      "\u001b[34m\u001b[1mtrain:\u001b[0m C:\\Users\\\\Desktop\\ultralytics-main\\datasets\\eyes_split\\train... found 5110 images in 8 classes  \n",
      "\u001b[34m\u001b[1mval:\u001b[0m C:\\Users\\\\Desktop\\ultralytics-main\\datasets\\eyes_split\\val... found 1282 images in 8 classes  \n",
      "\u001b[34m\u001b[1mtest:\u001b[0m None...\n"
     ]
    },
    {
     "name": "stderr",
     "output_type": "stream",
     "text": [
      "\u001b[34m\u001b[1mval: \u001b[0mScanning C:\\Users\\宋德祥\\Desktop\\ultralytics-main\\datasets\\eyes_split\\val... 1282 images, 0 corrupt: 100%|████████\u001b[0m\n",
      "               classes   top1_acc   top5_acc: 100%|██████████| 81/81 [00:09<00:00,  8.64it/s]\n"
     ]
    },
    {
     "name": "stdout",
     "output_type": "stream",
     "text": [
      "                   all      0.718      0.991\n",
      "Speed: 0.3ms preprocess, 6.0ms inference, 0.0ms loss, 0.0ms postprocess per image\n",
      "Results saved to \u001b[1mruns\\classify\\train542\u001b[0m\n",
      "Validation metrics: ultralytics.utils.metrics.ClassifyMetrics object with attributes:\n",
      "\n",
      "confusion_matrix: <ultralytics.utils.metrics.ConfusionMatrix object at 0x000001797050F070>\n",
      "curves: []\n",
      "curves_results: []\n",
      "fitness: 0.8541341722011566\n",
      "keys: ['metrics/accuracy_top1', 'metrics/accuracy_top5']\n",
      "results_dict: {'metrics/accuracy_top1': 0.7176287174224854, 'metrics/accuracy_top5': 0.9906396269798279, 'fitness': 0.8541341722011566}\n",
      "save_dir: WindowsPath('runs/classify/train542')\n",
      "speed: {'preprocess': 0.3008647425803376, 'inference': 6.028968096726088, 'loss': 0.000779719175199699, 'postprocess': 0.004793603746040671}\n",
      "task: 'classify'\n",
      "top1: 0.7176287174224854\n",
      "top5: 0.9906396269798279\n",
      "Ultralytics 8.3.93  Python-3.9.21 torch-2.0.1+cu118 CPU (AMD Ryzen 7 7840H w/ Radeon 780M Graphics)\n",
      "\n",
      "\u001b[34m\u001b[1mPyTorch:\u001b[0m starting from 'runs\\classify\\train54\\weights\\best.pt' with input shape (1, 3, 512, 512) BCHW and output shape(s) (1, 8) (30.2 MB)\n",
      "\n",
      "\u001b[34m\u001b[1mONNX:\u001b[0m starting export with onnx 1.17.0 opset 17...\n",
      "============= Diagnostic Run torch.onnx.export version 2.0.1+cu118 =============\n",
      "verbose: False, log level: Level.ERROR\n",
      "======================= 0 NONE 0 NOTE 0 WARNING 0 ERROR ========================\n",
      "\n",
      "\u001b[34m\u001b[1mONNX:\u001b[0m slimming with onnxslim 0.1.31...\n",
      "\u001b[34m\u001b[1mONNX:\u001b[0m export success  1.4s, saved as 'runs\\classify\\train54\\weights\\best.onnx' (60.2 MB)\n",
      "\n",
      "Export complete (1.9s)\n",
      "Results saved to \u001b[1mC:\\Users\\\\Desktop\\ultralytics-main\\runs\\classify\\train54\\weights\u001b[0m\n",
      "Predict:         yolo predict task=classify model=runs\\classify\\train54\\weights\\best.onnx imgsz=512  \n",
      "Validate:        yolo val task=classify model=runs\\classify\\train54\\weights\\best.onnx imgsz=512 data=eyes_split  \n",
      "Visualize:       https://netron.app\n"
     ]
    },
    {
     "data": {
      "text/plain": [
       "'runs\\\\classify\\\\train54\\\\weights\\\\best.onnx'"
      ]
     },
     "execution_count": 23,
     "metadata": {},
     "output_type": "execute_result"
    }
   ],
   "source": [
    "from ultralytics import YOLO\n",
    "\n",
    "#0.72\n",
    "\n",
    "# 1. 加载模型（选择更轻量级的模型）\n",
    "model = YOLO(\"yolov8m-cls.pt\")  # 或尝试 yolov8s-cls.pt\n",
    "\n",
    "# 2. 配置训练参数（优化后的参数）\n",
    "results = model.train(\n",
    "    data=\"eyes_split\",  # 数据集配置文件路径\n",
    "    epochs=200,         # 训练轮数\n",
    "    batch=16,           # 批次大小（如果显存不足可降低为32）\n",
    "    imgsz=512,          # 图像尺寸（保持与验证集一致）\n",
    "    lr0=0.001,          # 初始学习率（进一步降低学习率）\n",
    "    lrf=0.0001,         # 最终学习率（更小的衰减范围）\n",
    "    cos_lr=True,        # 使用余弦退火学习率调度\n",
    "    workers=8,          # 数据加载线程数\n",
    "    device=0,           # 使用 GPU 设备\n",
    "    hsv_h=0.02,         # 随机调整色调（增大增强幅度）\n",
    "    hsv_s=0.8,          # 随机调整饱和度\n",
    "    hsv_v=0.5,          # 随机调整亮度\n",
    "    translate=0.2,      # 随机平移（增大平移幅度）\n",
    "    scale=0.3,          # 随机缩放（缩小缩放范围以保留更多目标特征）\n",
    "    mixup=0.2,          # 启用MixUp混合训练（图像混合增强）\n",
    "    erasing=0.2,        # 随机擦除\n",
    "    flipud=0.5,         # 随机上下翻转\n",
    "    fliplr=0.5,         # 随机左右翻转\n",
    "    mosaic=0.5,         # 使用马赛克增强（随机拼接4张图像）\n",
    "    copy_paste=0.2,     # 启用复制粘贴增强（需Ultralytics版本支持）\n",
    "    weight_decay=0.001, # 权重衰减（L2正则化，增大正则化强度）\n",
    "    label_smoothing=0.1, # 标签平滑（减少模型对标签的过度自信）\n",
    "    dropout=0.2,        # Dropout概率（如果模型支持）\n",
    "    patience=20,        # 早停耐心值（缩短至20个epoch）\n",
    "    verbose=True,\n",
    "    amp=True,           # 启用混合精度训练\n",
    ")\n",
    "\n",
    "# 3. 验证最佳模型\n",
    "metrics = model.val()  # 确保验证集分布合理\n",
    "print(f\"Validation metrics: {metrics}\")\n",
    "\n",
    "# 4. 导出模型（可选）\n",
    "model.export(format=\"onnx\")"
   ]
  },
  {
   "cell_type": "code",
   "execution_count": null,
   "id": "9ea9d63c-0a12-489b-aab4-13b5ffc8b1f6",
   "metadata": {},
   "outputs": [],
   "source": [
    "import warnings\n",
    "warnings.filterwarnings('ignore')\n",
    "from ultralytics import YOLO\n",
    " \n",
    "if __name__ == '__main__':\n",
    "    model = YOLO('yolo11n.yaml') # 续训yaml文件的地方改为lats.pt的地址,需要注意的是如果你设置训练200轮次模型训练了200轮次是没有办法进行续训的.\n",
    "    # 如何切换模型版本, 上面的ymal文件可以改为 yolov11s.yaml就是使用的v11s,\n",
    "    # 类似某个改进的yaml文件名称为yolov11-XXX.yaml那么如果想使用其它版本就把上面的名称改为yolov11l-XXX.yaml即可（改的是上面YOLO中间的名字不是配置文件的）！\n",
    "    # model.load('yolov11n.pt') # 是否加载预训练权重,科研不建议大家加载否则很难提升精度\n",
    "    model.train(data=r\"C:\\Users\\Administrator\\Desktop\\ultralytics-main\\data.yaml\",\n",
    "                # 如果大家任务是其它的'ultralytics/cfg/default.yaml'找到这里修改task可以改成detect, segment, classify, pose\n",
    "                task='detect',\n",
    "                cache=False,\n",
    "                imgsz=640,\n",
    "                epochs=100,\n",
    "                single_cls=False,  # 是否是单类别检测\n",
    "                batch=4,\n",
    "                close_mosaic=0,\n",
    "                workers=0,\n",
    "                device='0',\n",
    "                optimizer='SGD', # using SGD 优化器 默认为auto建议大家使用固定的.\n",
    "                # resume=, # 续训的话这里填写True\n",
    "                amp=False,  # 如果出现训练损失为Nan可以关闭amp\n",
    "                project='runs/train',\n",
    "                name='exp',\n",
    "                )\n",
    " "
   ]
  },
  {
   "cell_type": "code",
   "execution_count": 12,
   "id": "557e158b-6a7d-45d8-ac9c-b6dd7533ef42",
   "metadata": {},
   "outputs": [
    {
     "name": "stdout",
     "output_type": "stream",
     "text": [
      "Looking in indexes: https://mirrors.aliyun.com/pypi/simple/\n",
      "Note: you may need to restart the kernel to use updated packages.\n"
     ]
    },
    {
     "name": "stderr",
     "output_type": "stream",
     "text": [
      "ERROR: Could not find a version that satisfies the requirement ackonv (from versions: none)\n",
      "ERROR: No matching distribution found for ackonv\n"
     ]
    }
   ],
   "source": [
    "pip install ackonv"
   ]
  },
  {
   "cell_type": "code",
   "execution_count": null,
   "id": "279b100f-792e-4ed2-a40f-b4028671e187",
   "metadata": {},
   "outputs": [],
   "source": []
  }
 ],
 "metadata": {
  "kernelspec": {
   "display_name": "Python 3 (ipykernel)",
   "language": "python",
   "name": "python3"
  },
  "language_info": {
   "codemirror_mode": {
    "name": "ipython",
    "version": 3
   },
   "file_extension": ".py",
   "mimetype": "text/x-python",
   "name": "python",
   "nbconvert_exporter": "python",
   "pygments_lexer": "ipython3",
   "version": "3.11.7"
  }
 },
 "nbformat": 4,
 "nbformat_minor": 5
}
